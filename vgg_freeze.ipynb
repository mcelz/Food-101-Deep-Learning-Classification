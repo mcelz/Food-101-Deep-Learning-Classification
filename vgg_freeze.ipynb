{
 "cells": [
  {
   "cell_type": "code",
   "execution_count": 1,
   "id": "c8d0e632",
   "metadata": {},
   "outputs": [],
   "source": [
    "import torch\n",
    "import torch.nn as nn\n",
    "import torchvision.models as models\n",
    "import torch.nn.functional as F\n",
    "import torch.optim as optim\n",
    "from prepare_data import *\n",
    "from data import *"
   ]
  },
  {
   "cell_type": "code",
   "execution_count": 2,
   "id": "c7af09f4",
   "metadata": {},
   "outputs": [],
   "source": [
    "training_address=\"food-101/train.csv\"\n",
    "test_address=\"food-101/test.csv\""
   ]
  },
  {
   "cell_type": "code",
   "execution_count": 3,
   "id": "85b23659",
   "metadata": {},
   "outputs": [],
   "source": [
    "train,val,test=get_dataloaders(training_address, test_address, args=None)"
   ]
  },
  {
   "cell_type": "code",
   "execution_count": 4,
   "id": "348e2674",
   "metadata": {},
   "outputs": [],
   "source": [
    "import torch.optim as optim\n",
    "import torch.nn.functional as F\n",
    "def prepare_model(device, model):\n",
    "    # load model, criterion, optimizer, and learning rate scheduler\n",
    "    \n",
    "    # Create an empty model and move it to the designated computing device\n",
    "    model=model.to(device)\n",
    "\n",
    "\n",
    "    return model\n",
    "\n",
    "def train_single_model(model, criterion, optimizer, scheduler, device, dataloaders,epoch):\n",
    "    \n",
    "    # prepare the model\n",
    "    model=prepare_model(device,model)\n",
    "    \n",
    "    # store the results of our training\n",
    "    training_losses=[]\n",
    "    training_accs=[]\n",
    "    val_losses=[]\n",
    "    val_accs=[]\n",
    "\n",
    "    for i in range(epoch):\n",
    "        # train the model in each epoch\n",
    "        model.train()\n",
    "        for batch_idx, (data, target) in enumerate(dataloaders[0]):\n",
    "            data, target = data.to(device), target.to(device)\n",
    "            optimizer.zero_grad() # clear the old gradients \n",
    "            output = model(data) # compute outputs of the fc layer \n",
    "            loss = criterion(output, target) \n",
    "            loss.backward() # compute gradient for every variables with requires_grad=True\n",
    "            optimizer.step()\n",
    "        if scheduler is not None:\n",
    "            scheduler.step()\n",
    "        \n",
    "        print(\"finish a epoch of training\")\n",
    "            \n",
    "        # test the model with the training data:\n",
    "        model.eval() # sets model in evaluation (inference) mode. Q3. Why? \n",
    "        training_loss = 0 \n",
    "        correct = 0\n",
    "        with torch.no_grad(): # stop storing gradients for the variables\n",
    "            for data, target in dataloaders[0]:\n",
    "                data, target = data.to(device), target.to(device)\n",
    "                output = model(data)\n",
    "                training_loss+=criterion(output, target)\n",
    "                pred = output.argmax(dim=1, keepdim=True) # get the index of maximum fc output. Q4. Why?\n",
    "                correct += pred.eq(target.view_as(pred)).sum().item()\n",
    "        training_loss /= len(dataloaders[0].dataset)\n",
    "        training_losses.append(training_loss)\n",
    "        training_acc=correct / len(dataloaders[0].dataset)\n",
    "        training_accs.append(training_acc)\n",
    "        \n",
    "        \n",
    "        # test the model with validation data in each epoch\n",
    "        model.eval() # sets model in evaluation (inference) mode. Q3. Why? \n",
    "        val_loss = 0 \n",
    "        correct = 0\n",
    "        with torch.no_grad(): # stop storing gradients for the variables\n",
    "            for data, target in dataloaders[1]:\n",
    "                data, target = data.to(device), target.to(device)\n",
    "                output = model(data)\n",
    "                val_loss+=criterion(output, target)\n",
    "                pred = output.argmax(dim=1, keepdim=True) # get the index of maximum fc output. Q4. Why?\n",
    "                correct += pred.eq(target.view_as(pred)).sum().item()\n",
    "        val_loss /= len(dataloaders[1].dataset)\n",
    "        val_losses.append(val_loss)\n",
    "        val_acc=correct / len(dataloaders[1].dataset)\n",
    "        val_accs.append(val_acc)\n",
    "        print(\"epoch_num: \"+str(i))\n",
    "        print(\"train_loss: \"+str(training_loss))\n",
    "        print(\"val_loss: \"+str(val_loss))\n",
    "\n",
    "    torch.save(model.state_dict(), \"food-101/state_dict_model.pt\")\n",
    "    return model,training_losses,training_accs,val_losses,val_accs"
   ]
  },
  {
   "cell_type": "code",
   "execution_count": 5,
   "id": "1e674726",
   "metadata": {},
   "outputs": [],
   "source": [
    "a=[train,val,test]"
   ]
  },
  {
   "cell_type": "code",
   "execution_count": 6,
   "id": "bd7fefb0",
   "metadata": {},
   "outputs": [],
   "source": [
    "class vgg(nn.Module):\n",
    "    def __init__(self):\n",
    "        super(vgg, self).__init__()\n",
    "        temp=models.vgg16_bn(pretrained=True)\n",
    "        \n",
    "        for param in temp.parameters():\n",
    "            param.requires_grad = False\n",
    "\n",
    "        # change the last layer\n",
    "        temp.classifier[6] = nn.Linear(in_features=4096, out_features=20, bias=True)\n",
    "        \n",
    "        # unfreeze the final layer this time for extra tuning\n",
    "        temp.classifier[6].weight.requires_grad = True\n",
    "        temp.classifier[6].bias.requires_grad = True\n",
    "        \n",
    "        model_ft = temp.to(\"cuda:0\")\n",
    "        self.model=model_ft\n",
    "        \n",
    "    def forward(self, x):\n",
    "        x=self.model(x)\n",
    "        return x"
   ]
  },
  {
   "cell_type": "code",
   "execution_count": 7,
   "id": "62ced3e0",
   "metadata": {},
   "outputs": [],
   "source": [
    "model=vgg()\n",
    "criterion=nn.CrossEntropyLoss()\n",
    "# optimizer=optim.Adam(model.parameters(), lr=2e-4)\n",
    "optimizer = optim.Adam(model.parameters(), lr=5e-4)\n",
    "nn.init.xavier_uniform_(model.classifier[6].weight)\n",
    "nn.init.zeros_(model.classifier[6].bias)"
   ]
  },
  {
   "cell_type": "code",
   "execution_count": 8,
   "id": "d72e0cc9",
   "metadata": {},
   "outputs": [
    {
     "name": "stderr",
     "output_type": "stream",
     "text": [
      "/opt/conda/lib/python3.9/site-packages/torch/nn/functional.py:718: UserWarning: Named tensors and all their associated APIs are an experimental feature and subject to change. Please do not use them for anything important until they are released as stable. (Triggered internally at  /pytorch/c10/core/TensorImpl.h:1156.)\n",
      "  return torch.max_pool2d(input, kernel_size, stride, padding, dilation, ceil_mode)\n"
     ]
    },
    {
     "name": "stdout",
     "output_type": "stream",
     "text": [
      "finish a epoch of training\n",
      "epoch_num: 0\n",
      "train_loss: tensor(0.0703, device='cuda:0')\n",
      "val_loss: tensor(0.0754, device='cuda:0')\n",
      "finish a epoch of training\n",
      "epoch_num: 1\n",
      "train_loss: tensor(0.0632, device='cuda:0')\n",
      "val_loss: tensor(0.0720, device='cuda:0')\n",
      "finish a epoch of training\n",
      "epoch_num: 2\n",
      "train_loss: tensor(0.0604, device='cuda:0')\n",
      "val_loss: tensor(0.0709, device='cuda:0')\n",
      "finish a epoch of training\n",
      "epoch_num: 3\n",
      "train_loss: tensor(0.0568, device='cuda:0')\n",
      "val_loss: tensor(0.0696, device='cuda:0')\n",
      "finish a epoch of training\n",
      "epoch_num: 4\n",
      "train_loss: tensor(0.0532, device='cuda:0')\n",
      "val_loss: tensor(0.0671, device='cuda:0')\n",
      "finish a epoch of training\n",
      "epoch_num: 5\n",
      "train_loss: tensor(0.0519, device='cuda:0')\n",
      "val_loss: tensor(0.0681, device='cuda:0')\n",
      "finish a epoch of training\n",
      "epoch_num: 6\n",
      "train_loss: tensor(0.0504, device='cuda:0')\n",
      "val_loss: tensor(0.0680, device='cuda:0')\n",
      "finish a epoch of training\n",
      "epoch_num: 7\n",
      "train_loss: tensor(0.0496, device='cuda:0')\n",
      "val_loss: tensor(0.0689, device='cuda:0')\n",
      "finish a epoch of training\n",
      "epoch_num: 8\n",
      "train_loss: tensor(0.0477, device='cuda:0')\n",
      "val_loss: tensor(0.0675, device='cuda:0')\n",
      "finish a epoch of training\n",
      "epoch_num: 9\n",
      "train_loss: tensor(0.0463, device='cuda:0')\n",
      "val_loss: tensor(0.0675, device='cuda:0')\n"
     ]
    }
   ],
   "source": [
    "m1,tl1,tc1,vl1,vc1=train_single_model(model, criterion, optimizer, scheduler=None, device=\"cuda:0\", dataloaders=a,epoch=10)"
   ]
  },
  {
   "cell_type": "code",
   "execution_count": 11,
   "id": "3a228792",
   "metadata": {
    "scrolled": true
   },
   "outputs": [
    {
     "data": {
      "image/png": "[encoded data removed]",
      "text/plain": [
       "<Figure size 432x288 with 1 Axes>"
      ]
     },
     "metadata": {
      "needs_background": "light"
     },
     "output_type": "display_data"
    }
   ],
   "source": [
    "plt.plot(tc1, label='Training')\n",
    "plt.plot(vc1, label='Validation')\n",
    "plt.title('Training and Validation Accuracies')\n",
    "plt.xlabel('Epochs')\n",
    "plt.ylabel('Accuracy')\n",
    "plt.legend()\n",
    "plt.show()"
   ]
  },
  {
   "cell_type": "code",
   "execution_count": 10,
   "id": "931969d4",
   "metadata": {},
   "outputs": [],
   "source": [
    "import math\n",
    "import matplotlib.pyplot as plt"
   ]
  },
  {
   "cell_type": "code",
   "execution_count": 12,
   "id": "e4def418",
   "metadata": {},
   "outputs": [
    {
     "data": {
      "image/png": "[encoded data removed]",
      "text/plain": [
       "<Figure size 432x288 with 1 Axes>"
      ]
     },
     "metadata": {
      "needs_background": "light"
     },
     "output_type": "display_data"
    }
   ],
   "source": [
    "plt.plot(tl1, label='Training')\n",
    "plt.plot(vl1, label='Validation')\n",
    "plt.title('Training and Validation Losses')\n",
    "plt.xlabel('Epoches')\n",
    "plt.ylabel('Loss')\n",
    "plt.legend()\n",
    "plt.show()"
   ]
  },
  {
   "cell_type": "code",
   "execution_count": 13,
   "id": "fb3be654",
   "metadata": {},
   "outputs": [
    {
     "name": "stdout",
     "output_type": "stream",
     "text": [
      "test accu:  0.6862\n"
     ]
    }
   ],
   "source": [
    "model.eval() # sets model in evaluation (inference) mode.\n",
    "correct = 0\n",
    "with torch.no_grad(): # stop storing gradients for the variables\n",
    "    for data, target in a[2]:\n",
    "            data, target = data.to(\"cuda:0\"), target.to(\"cuda:0\")\n",
    "            output = model(data)\n",
    "            pred = output.argmax(dim=1, keepdim=True) # get the index of maximum fc output. \n",
    "            correct += pred.eq(target.view_as(pred)).sum().item()\n",
    "    test_acc=correct / len(a[2].dataset)\n",
    "print(\"test accu: \",test_acc)"
   ]
  },
  {
   "cell_type": "code",
   "execution_count": 14,
   "id": "36d26c55",
   "metadata": {},
   "outputs": [],
   "source": [
    "#save weights\n",
    "torch.save(m1.state_dict(),\"food-101/state_dict_model_vgg_freeze.pt\")"
   ]
  },
  {
   "cell_type": "code",
   "execution_count": 16,
   "id": "3cf28642",
   "metadata": {},
   "outputs": [
    {
     "data": {
      "text/plain": [
       "vgg(\n",
       "  (model): VGG(\n",
       "    (features): Sequential(\n",
       "      (0): Conv2d(3, 64, kernel_size=(3, 3), stride=(1, 1), padding=(1, 1))\n",
       "      (1): BatchNorm2d(64, eps=1e-05, momentum=0.1, affine=True, track_running_stats=True)\n",
       "      (2): ReLU(inplace=True)\n",
       "      (3): Conv2d(64, 64, kernel_size=(3, 3), stride=(1, 1), padding=(1, 1))\n",
       "      (4): BatchNorm2d(64, eps=1e-05, momentum=0.1, affine=True, track_running_stats=True)\n",
       "      (5): ReLU(inplace=True)\n",
       "      (6): MaxPool2d(kernel_size=2, stride=2, padding=0, dilation=1, ceil_mode=False)\n",
       "      (7): Conv2d(64, 128, kernel_size=(3, 3), stride=(1, 1), padding=(1, 1))\n",
       "      (8): BatchNorm2d(128, eps=1e-05, momentum=0.1, affine=True, track_running_stats=True)\n",
       "      (9): ReLU(inplace=True)\n",
       "      (10): Conv2d(128, 128, kernel_size=(3, 3), stride=(1, 1), padding=(1, 1))\n",
       "      (11): BatchNorm2d(128, eps=1e-05, momentum=0.1, affine=True, track_running_stats=True)\n",
       "      (12): ReLU(inplace=True)\n",
       "      (13): MaxPool2d(kernel_size=2, stride=2, padding=0, dilation=1, ceil_mode=False)\n",
       "      (14): Conv2d(128, 256, kernel_size=(3, 3), stride=(1, 1), padding=(1, 1))\n",
       "      (15): BatchNorm2d(256, eps=1e-05, momentum=0.1, affine=True, track_running_stats=True)\n",
       "      (16): ReLU(inplace=True)\n",
       "      (17): Conv2d(256, 256, kernel_size=(3, 3), stride=(1, 1), padding=(1, 1))\n",
       "      (18): BatchNorm2d(256, eps=1e-05, momentum=0.1, affine=True, track_running_stats=True)\n",
       "      (19): ReLU(inplace=True)\n",
       "      (20): Conv2d(256, 256, kernel_size=(3, 3), stride=(1, 1), padding=(1, 1))\n",
       "      (21): BatchNorm2d(256, eps=1e-05, momentum=0.1, affine=True, track_running_stats=True)\n",
       "      (22): ReLU(inplace=True)\n",
       "      (23): MaxPool2d(kernel_size=2, stride=2, padding=0, dilation=1, ceil_mode=False)\n",
       "      (24): Conv2d(256, 512, kernel_size=(3, 3), stride=(1, 1), padding=(1, 1))\n",
       "      (25): BatchNorm2d(512, eps=1e-05, momentum=0.1, affine=True, track_running_stats=True)\n",
       "      (26): ReLU(inplace=True)\n",
       "      (27): Conv2d(512, 512, kernel_size=(3, 3), stride=(1, 1), padding=(1, 1))\n",
       "      (28): BatchNorm2d(512, eps=1e-05, momentum=0.1, affine=True, track_running_stats=True)\n",
       "      (29): ReLU(inplace=True)\n",
       "      (30): Conv2d(512, 512, kernel_size=(3, 3), stride=(1, 1), padding=(1, 1))\n",
       "      (31): BatchNorm2d(512, eps=1e-05, momentum=0.1, affine=True, track_running_stats=True)\n",
       "      (32): ReLU(inplace=True)\n",
       "      (33): MaxPool2d(kernel_size=2, stride=2, padding=0, dilation=1, ceil_mode=False)\n",
       "      (34): Conv2d(512, 512, kernel_size=(3, 3), stride=(1, 1), padding=(1, 1))\n",
       "      (35): BatchNorm2d(512, eps=1e-05, momentum=0.1, affine=True, track_running_stats=True)\n",
       "      (36): ReLU(inplace=True)\n",
       "      (37): Conv2d(512, 512, kernel_size=(3, 3), stride=(1, 1), padding=(1, 1))\n",
       "      (38): BatchNorm2d(512, eps=1e-05, momentum=0.1, affine=True, track_running_stats=True)\n",
       "      (39): ReLU(inplace=True)\n",
       "      (40): Conv2d(512, 512, kernel_size=(3, 3), stride=(1, 1), padding=(1, 1))\n",
       "      (41): BatchNorm2d(512, eps=1e-05, momentum=0.1, affine=True, track_running_stats=True)\n",
       "      (42): ReLU(inplace=True)\n",
       "      (43): MaxPool2d(kernel_size=2, stride=2, padding=0, dilation=1, ceil_mode=False)\n",
       "    )\n",
       "    (avgpool): AdaptiveAvgPool2d(output_size=(7, 7))\n",
       "    (classifier): Sequential(\n",
       "      (0): Linear(in_features=25088, out_features=4096, bias=True)\n",
       "      (1): ReLU(inplace=True)\n",
       "      (2): Dropout(p=0.5, inplace=False)\n",
       "      (3): Linear(in_features=4096, out_features=4096, bias=True)\n",
       "      (4): ReLU(inplace=True)\n",
       "      (5): Dropout(p=0.5, inplace=False)\n",
       "      (6): Linear(in_features=4096, out_features=20, bias=True)\n",
       "    )\n",
       "  )\n",
       ")"
      ]
     },
     "execution_count": 16,
     "metadata": {},
     "output_type": "execute_result"
    }
   ],
   "source": [
    "#load model\n",
    "model = vgg() # we do not specify pretrained=True, i.e. do not load default weights\n",
    "model.load_state_dict(torch.load('food-101/state_dict_model_vgg_freeze.pt'))\n",
    "model.eval()"
   ]
  },
  {
   "cell_type": "code",
   "execution_count": null,
   "id": "0e80a044",
   "metadata": {},
   "outputs": [],
   "source": [
    "model.eval() # sets model in evaluation (inference) mode.\n",
    "correct = 0\n",
    "with torch.no_grad(): # stop storing gradients for the variables\n",
    "    for data, target in a[2]:\n",
    "            data, target = data.to(\"cuda:0\"), target.to(\"cuda:0\")\n",
    "            output = model(data)\n",
    "            pred = output.argmax(dim=1, keepdim=True) # get the index of maximum fc output. \n",
    "            correct += pred.eq(target.view_as(pred)).sum().item()\n",
    "    test_acc=correct / len(a[2].dataset)\n",
    "print(\"test accu: \",test_acc)"
   ]
  },
  {
   "cell_type": "code",
   "execution_count": null,
   "id": "82f48a24",
   "metadata": {},
   "outputs": [],
   "source": []
  }
 ],
 "metadata": {
  "kernelspec": {
   "display_name": "Python 3 (clean)",
   "language": "python",
   "name": "python3_clean"
  },
  "language_info": {
   "codemirror_mode": {
    "name": "ipython",
    "version": 3
   },
   "file_extension": ".py",
   "mimetype": "text/x-python",
   "name": "python",
   "nbconvert_exporter": "python",
   "pygments_lexer": "ipython3",
   "version": "3.9.5"
  }
 },
 "nbformat": 4,
 "nbformat_minor": 5
}
