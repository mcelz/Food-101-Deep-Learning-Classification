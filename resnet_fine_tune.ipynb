{
 "cells": [
  {
   "cell_type": "code",
   "execution_count": 2,
   "id": "b659c26a",
   "metadata": {},
   "outputs": [],
   "source": [
    "import torch\n",
    "import torch.nn as nn\n",
    "import torchvision.models as models\n",
    "import torch.nn.functional as F\n",
    "import torch.optim as optim\n",
    "from prepare_data import *\n",
    "from data import *"
   ]
  },
  {
   "cell_type": "code",
   "execution_count": 224,
   "id": "9d24a3dd",
   "metadata": {},
   "outputs": [],
   "source": [
    "def prepare_model(device, model):\n",
    "    # load model, criterion, optimizer, and learning rate scheduler\n",
    "    \n",
    "    # Create an empty model and move it to the designated computing device\n",
    "    model=model.to(device)\n",
    "\n",
    "\n",
    "    return model\n",
    "\n",
    "def train_single_model(model, criterion, optimizer, scheduler, device, dataloaders,epoch):\n",
    "    \n",
    "    # prepare the model\n",
    "    model=prepare_model(device,model)\n",
    "    \n",
    "    # store the results of our training\n",
    "    training_losses=[]\n",
    "    training_accs=[]\n",
    "    val_losses=[]\n",
    "    val_accs=[]\n",
    "\n",
    "    for i in range(epoch):\n",
    "        # train the model in each epoch\n",
    "        model.train()\n",
    "        for batch_idx, (data, target) in enumerate(dataloaders[0]):\n",
    "            data, target = data.to(device), target.to(device)\n",
    "            optimizer.zero_grad() # clear the old gradients \n",
    "            output = model(data) # compute outputs of the fc layer \n",
    "            loss = criterion(output, target) \n",
    "            loss.backward() # compute gradient for every variables with requires_grad=True\n",
    "            optimizer.step()\n",
    "        if scheduler is not None:\n",
    "            scheduler.step()\n",
    "        \n",
    "        print(\"finish a epoch of training\")\n",
    "            \n",
    "        # test the model with the training data:\n",
    "        model.eval() # sets model in evaluation (inference) mode.  \n",
    "        training_loss = 0 \n",
    "        correct = 0\n",
    "        with torch.no_grad(): # stop storing gradients for the variables\n",
    "            for data, target in dataloaders[0]:\n",
    "                data, target = data.to(device), target.to(device)\n",
    "                output = model(data)\n",
    "                training_loss+=criterion(output, target)\n",
    "                pred = output.argmax(dim=1, keepdim=True) # get the index of maximum fc output. Q4. Why?\n",
    "                correct += pred.eq(target.view_as(pred)).sum().item()\n",
    "        training_loss /= len(dataloaders[0].dataset)\n",
    "        training_losses.append(training_loss)\n",
    "        training_acc=correct / len(dataloaders[0].dataset)\n",
    "        training_accs.append(training_acc)\n",
    "        \n",
    "        \n",
    "        # test the model with validation data in each epoch\n",
    "        model.eval() # sets model in evaluation (inference) mode. \n",
    "        val_loss = 0 \n",
    "        correct = 0\n",
    "        with torch.no_grad(): # stop storing gradients for the variables\n",
    "            for data, target in dataloaders[1]:\n",
    "                data, target = data.to(device), target.to(device)\n",
    "                output = model(data)\n",
    "                val_loss+=criterion(output, target)\n",
    "                pred = output.argmax(dim=1, keepdim=True) # get the index of maximum fc output. \n",
    "                correct += pred.eq(target.view_as(pred)).sum().item()\n",
    "        val_loss /= len(dataloaders[1].dataset)\n",
    "        val_losses.append(val_loss)\n",
    "        val_acc=correct / len(dataloaders[1].dataset)\n",
    "        val_accs.append(val_acc)\n",
    "        print(\"epoch_num: \"+str(i))\n",
    "        print(\"train_loss: \"+str(training_loss))\n",
    "        print(\"val_loss: \"+str(val_loss))\n",
    "\n",
    "    torch.save(model.state_dict(), \"food-101/state_dict_model2.pt\")\n",
    "    return model,training_losses,training_accs,val_losses,val_accs"
   ]
  },
  {
   "cell_type": "code",
   "execution_count": 259,
   "id": "cfdea558",
   "metadata": {},
   "outputs": [],
   "source": [
    "# Fine-tuned version\n",
    "class resnet(nn.Module):\n",
    "    def __init__(self):\n",
    "        super(resnet, self).__init__()\n",
    "        temp=models.resnet18(pretrained=True)\n",
    "        num_ftrs = temp.fc.in_features\n",
    "        temp.fc = nn.Linear(num_ftrs, 20)\n",
    "        model_ft = temp.to(\"cuda:0\")\n",
    "        self.model=model_ft\n",
    "        \n",
    "    def forward(self, x):\n",
    "        x=self.model(x)\n",
    "        return x"
   ]
  },
  {
   "cell_type": "code",
   "execution_count": 260,
   "id": "df6af6e3",
   "metadata": {},
   "outputs": [
    {
     "name": "stdout",
     "output_type": "stream",
     "text": [
      "finish a epoch of training\n",
      "epoch_num: 0\n",
      "train_loss: tensor(0.0200, device='cuda:0')\n",
      "val_loss: tensor(0.0198, device='cuda:0')\n",
      "finish a epoch of training\n",
      "epoch_num: 1\n",
      "train_loss: tensor(0.0065, device='cuda:0')\n",
      "val_loss: tensor(0.0162, device='cuda:0')\n",
      "finish a epoch of training\n",
      "epoch_num: 2\n",
      "train_loss: tensor(0.0022, device='cuda:0')\n",
      "val_loss: tensor(0.0175, device='cuda:0')\n",
      "finish a epoch of training\n",
      "epoch_num: 3\n",
      "train_loss: tensor(0.0005, device='cuda:0')\n",
      "val_loss: tensor(0.0166, device='cuda:0')\n",
      "finish a epoch of training\n",
      "epoch_num: 4\n",
      "train_loss: tensor(0.0003, device='cuda:0')\n",
      "val_loss: tensor(0.0172, device='cuda:0')\n",
      "finish a epoch of training\n",
      "epoch_num: 5\n",
      "train_loss: tensor(0.0006, device='cuda:0')\n",
      "val_loss: tensor(0.0190, device='cuda:0')\n",
      "finish a epoch of training\n",
      "epoch_num: 6\n",
      "train_loss: tensor(0.0006, device='cuda:0')\n",
      "val_loss: tensor(0.0195, device='cuda:0')\n",
      "finish a epoch of training\n",
      "epoch_num: 7\n",
      "train_loss: tensor(0.0010, device='cuda:0')\n",
      "val_loss: tensor(0.0218, device='cuda:0')\n",
      "finish a epoch of training\n",
      "epoch_num: 8\n",
      "train_loss: tensor(0.0014, device='cuda:0')\n",
      "val_loss: tensor(0.0230, device='cuda:0')\n",
      "finish a epoch of training\n",
      "epoch_num: 9\n",
      "train_loss: tensor(0.0008, device='cuda:0')\n",
      "val_loss: tensor(0.0223, device='cuda:0')\n",
      "finish a epoch of training\n",
      "epoch_num: 10\n",
      "train_loss: tensor(0.0003, device='cuda:0')\n",
      "val_loss: tensor(0.0213, device='cuda:0')\n",
      "finish a epoch of training\n",
      "epoch_num: 11\n",
      "train_loss: tensor(0.0003, device='cuda:0')\n",
      "val_loss: tensor(0.0213, device='cuda:0')\n",
      "finish a epoch of training\n",
      "epoch_num: 12\n",
      "train_loss: tensor(0.0004, device='cuda:0')\n",
      "val_loss: tensor(0.0226, device='cuda:0')\n",
      "finish a epoch of training\n",
      "epoch_num: 13\n",
      "train_loss: tensor(0.0005, device='cuda:0')\n",
      "val_loss: tensor(0.0237, device='cuda:0')\n",
      "finish a epoch of training\n",
      "epoch_num: 14\n",
      "train_loss: tensor(0.0010, device='cuda:0')\n",
      "val_loss: tensor(0.0256, device='cuda:0')\n",
      "finish a epoch of training\n",
      "epoch_num: 15\n",
      "train_loss: tensor(0.0001, device='cuda:0')\n",
      "val_loss: tensor(0.0208, device='cuda:0')\n",
      "finish a epoch of training\n",
      "epoch_num: 16\n",
      "train_loss: tensor(0.0006, device='cuda:0')\n",
      "val_loss: tensor(0.0223, device='cuda:0')\n",
      "finish a epoch of training\n",
      "epoch_num: 17\n",
      "train_loss: tensor(0.0004, device='cuda:0')\n",
      "val_loss: tensor(0.0240, device='cuda:0')\n",
      "finish a epoch of training\n",
      "epoch_num: 18\n",
      "train_loss: tensor(0.0003, device='cuda:0')\n",
      "val_loss: tensor(0.0236, device='cuda:0')\n",
      "finish a epoch of training\n",
      "epoch_num: 19\n",
      "train_loss: tensor(0.0006, device='cuda:0')\n",
      "val_loss: tensor(0.0245, device='cuda:0')\n",
      "finish a epoch of training\n",
      "epoch_num: 20\n",
      "train_loss: tensor(0.0002, device='cuda:0')\n",
      "val_loss: tensor(0.0226, device='cuda:0')\n",
      "finish a epoch of training\n",
      "epoch_num: 21\n",
      "train_loss: tensor(4.6190e-05, device='cuda:0')\n",
      "val_loss: tensor(0.0221, device='cuda:0')\n",
      "finish a epoch of training\n",
      "epoch_num: 22\n",
      "train_loss: tensor(0.0005, device='cuda:0')\n",
      "val_loss: tensor(0.0269, device='cuda:0')\n",
      "finish a epoch of training\n",
      "epoch_num: 23\n",
      "train_loss: tensor(0.0005, device='cuda:0')\n",
      "val_loss: tensor(0.0266, device='cuda:0')\n",
      "finish a epoch of training\n",
      "epoch_num: 24\n",
      "train_loss: tensor(0.0003, device='cuda:0')\n",
      "val_loss: tensor(0.0250, device='cuda:0')\n",
      "finish a epoch of training\n",
      "epoch_num: 25\n",
      "train_loss: tensor(0.0002, device='cuda:0')\n",
      "val_loss: tensor(0.0253, device='cuda:0')\n",
      "finish a epoch of training\n",
      "epoch_num: 26\n",
      "train_loss: tensor(0.0002, device='cuda:0')\n",
      "val_loss: tensor(0.0241, device='cuda:0')\n",
      "finish a epoch of training\n",
      "epoch_num: 27\n",
      "train_loss: tensor(4.3231e-05, device='cuda:0')\n",
      "val_loss: tensor(0.0231, device='cuda:0')\n",
      "finish a epoch of training\n",
      "epoch_num: 28\n",
      "train_loss: tensor(0.0003, device='cuda:0')\n",
      "val_loss: tensor(0.0249, device='cuda:0')\n",
      "finish a epoch of training\n",
      "epoch_num: 29\n",
      "train_loss: tensor(0.0007, device='cuda:0')\n",
      "val_loss: tensor(0.0271, device='cuda:0')\n"
     ]
    }
   ],
   "source": [
    "training_address=\"food-101/train.csv\"\n",
    "test_address=\"food-101/test.csv\"\n",
    "train,val,test=get_dataloaders(training_address, test_address, args=None)\n",
    "model=resnet()\n",
    "criterion=nn.CrossEntropyLoss()\n",
    "optimizer=optim.Adam(model.parameters(), lr=0.0001)\n",
    "model\n",
    "a=[train,val,test]\n",
    "m1,tl1,tc1,vl1,vc1=train_single_model(model, criterion, optimizer, scheduler=None, device=\"cuda:0\", dataloaders=a,epoch=30)"
   ]
  },
  {
   "cell_type": "code",
   "execution_count": 261,
   "id": "f7d5f0a1",
   "metadata": {},
   "outputs": [
    {
     "data": {
      "image/png": "[encoded data removed]",
      "text/plain": [
       "<Figure size 432x288 with 1 Axes>"
      ]
     },
     "metadata": {
      "needs_background": "light"
     },
     "output_type": "display_data"
    }
   ],
   "source": [
    "import matplotlib.pyplot as plt\n",
    "plt.plot(tc1, label='Training')\n",
    "plt.plot(vc1, label='Validation')\n",
    "plt.title('Training and Validation Accuracies')\n",
    "plt.xlabel('Epochs')\n",
    "plt.ylabel('Accuracy')\n",
    "plt.legend()\n",
    "plt.show()"
   ]
  },
  {
   "cell_type": "code",
   "execution_count": 262,
   "id": "e306afd5",
   "metadata": {},
   "outputs": [],
   "source": [
    "tl=[]\n",
    "for i in tl1:\n",
    "    tl.append(i.cpu().item())\n",
    "vl=[]\n",
    "for i in vl1:\n",
    "    vl.append(i.cpu().item())"
   ]
  },
  {
   "cell_type": "code",
   "execution_count": 263,
   "id": "f98464ce",
   "metadata": {},
   "outputs": [
    {
     "data": {
      "image/png": "[encoded data removed]",
      "text/plain": [
       "<Figure size 432x288 with 1 Axes>"
      ]
     },
     "metadata": {
      "needs_background": "light"
     },
     "output_type": "display_data"
    }
   ],
   "source": [
    "plt.plot(list(tl), label='Training')\n",
    "plt.plot(list(vl), label='Validation')\n",
    "plt.title('Training and Validation Losses')\n",
    "plt.xlabel('Epoches')\n",
    "plt.ylabel('Loss')\n",
    "plt.legend()\n",
    "plt.show()"
   ]
  },
  {
   "cell_type": "code",
   "execution_count": 264,
   "id": "3c01b819",
   "metadata": {},
   "outputs": [],
   "source": [
    "m1.eval() # sets model in evaluation (inference) mode. \n",
    "correct = 0\n",
    "device=\"cuda:0\"\n",
    "with torch.no_grad(): # stop storing gradients for the variables\n",
    "    for data, target in a[2]:\n",
    "        data, target = data.to(device), target.to(device)\n",
    "        output = m1(data)\n",
    "        pred = output.argmax(dim=1, keepdim=True) # get the index of maximum fc output. \n",
    "        correct += pred.eq(target.view_as(pred)).sum().item()\n",
    "    val_acc=correct / len(a[2].dataset)"
   ]
  },
  {
   "cell_type": "code",
   "execution_count": 265,
   "id": "c4fc117e",
   "metadata": {},
   "outputs": [
    {
     "data": {
      "text/plain": [
       "0.7198"
      ]
     },
     "execution_count": 265,
     "metadata": {},
     "output_type": "execute_result"
    }
   ],
   "source": [
    "val_acc"
   ]
  },
  {
   "cell_type": "code",
   "execution_count": 266,
   "id": "08bfe403",
   "metadata": {},
   "outputs": [],
   "source": [
    "torch.save(model.state_dict(), \"food-101/resnet_fl.pt\")"
   ]
  },
  {
   "cell_type": "code",
   "execution_count": 256,
   "id": "0f15667c",
   "metadata": {},
   "outputs": [
    {
     "name": "stdout",
     "output_type": "stream",
     "text": [
      "finish a epoch of training\n",
      "epoch_num: 0\n",
      "train_loss: tensor(0.0640, device='cuda:0')\n",
      "val_loss: tensor(0.0414, device='cuda:0')\n",
      "finish a epoch of training\n",
      "epoch_num: 1\n",
      "train_loss: tensor(0.0499, device='cuda:0')\n",
      "val_loss: tensor(0.0348, device='cuda:0')\n",
      "finish a epoch of training\n",
      "epoch_num: 2\n",
      "train_loss: tensor(0.0496, device='cuda:0')\n",
      "val_loss: tensor(0.0389, device='cuda:0')\n",
      "finish a epoch of training\n",
      "epoch_num: 3\n",
      "train_loss: tensor(0.0433, device='cuda:0')\n",
      "val_loss: tensor(0.0406, device='cuda:0')\n",
      "finish a epoch of training\n",
      "epoch_num: 4\n",
      "train_loss: tensor(0.0230, device='cuda:0')\n",
      "val_loss: tensor(0.0328, device='cuda:0')\n"
     ]
    }
   ],
   "source": [
    "training_address=\"food-101/train.csv\"\n",
    "test_address=\"food-101/test.csv\"\n",
    "train,val,test=get_dataloaders(training_address, test_address, args=None)\n",
    "model=resnet()\n",
    "criterion=nn.CrossEntropyLoss()\n",
    "optimizer=optim.Adam(model.parameters(), lr=0.001)\n",
    "a=[train,val,test]\n",
    "m1,tl1,tc1,vl1,vc1=train_single_model(model, criterion, optimizer, scheduler=None, device=\"cuda:0\", dataloaders=a,epoch=5)"
   ]
  },
  {
   "cell_type": "code",
   "execution_count": 257,
   "id": "b978059d",
   "metadata": {},
   "outputs": [],
   "source": [
    "model.eval() # sets model in evaluation (inference) mode. \n",
    "correct = 0\n",
    "device=\"cuda:0\"\n",
    "with torch.no_grad(): # stop storing gradients for the variables\n",
    "    for data, target in a[2]:\n",
    "        data, target = data.to(device), target.to(device)\n",
    "        output = model(data)\n",
    "        pred = output.argmax(dim=1, keepdim=True) # get the index of maximum fc output. \n",
    "        correct += pred.eq(target.view_as(pred)).sum().item()\n",
    "    val_acc=correct / len(a[2].dataset)"
   ]
  },
  {
   "cell_type": "code",
   "execution_count": 258,
   "id": "c9a1e605",
   "metadata": {},
   "outputs": [
    {
     "data": {
      "text/plain": [
       "0.555"
      ]
     },
     "execution_count": 258,
     "metadata": {},
     "output_type": "execute_result"
    }
   ],
   "source": [
    "val_acc"
   ]
  },
  {
   "cell_type": "code",
   "execution_count": 80,
   "id": "e0a1c909",
   "metadata": {},
   "outputs": [
    {
     "data": {
      "text/plain": [
       "<All keys matched successfully>"
      ]
     },
     "execution_count": 80,
     "metadata": {},
     "output_type": "execute_result"
    }
   ],
   "source": [
    "model = resnet()\n",
    "model.load_state_dict(torch.load(\"food-101/state_dict_model2.pt\"))"
   ]
  },
  {
   "cell_type": "code",
   "execution_count": 230,
   "id": "43dbe12d",
   "metadata": {},
   "outputs": [],
   "source": [
    "class resnet(nn.Module):\n",
    "    def __init__(self):\n",
    "        super(resnet, self).__init__()\n",
    "        new=models.resnet18(pretrained=True)\n",
    "        self.conv1=new.conv1\n",
    "        self.bn1=new.bn1\n",
    "        self.relu=new.relu\n",
    "        self.maxpool=new.maxpool\n",
    "        self.layer1=new.layer1\n",
    "        self.layer2=new.layer2\n",
    "        self.layer3=new.layer3\n",
    "        self.avgpool=new.avgpool\n",
    "        self.fc=nn.Linear(256, 20)\n",
    "    def forward(self, x):\n",
    "        x=self.conv1(x)\n",
    "        x=self.bn1(x)\n",
    "        x=self.relu(x)\n",
    "        x=self.maxpool(x)\n",
    "        x=self.layer1(x)\n",
    "        x=self.layer2(x)\n",
    "        x=self.layer3(x)\n",
    "        x=self.avgpool(x)\n",
    "        x=x.view(-1,256)\n",
    "        x=self.fc(x)\n",
    "        return x"
   ]
  },
  {
   "cell_type": "code",
   "execution_count": 231,
   "id": "6cfb944a",
   "metadata": {},
   "outputs": [
    {
     "name": "stdout",
     "output_type": "stream",
     "text": [
      "finish a epoch of training\n",
      "epoch_num: 0\n",
      "train_loss: tensor(0.0599, device='cuda:0')\n",
      "val_loss: tensor(0.0372, device='cuda:0')\n",
      "finish a epoch of training\n",
      "epoch_num: 1\n",
      "train_loss: tensor(0.0471, device='cuda:0')\n",
      "val_loss: tensor(0.0309, device='cuda:0')\n",
      "finish a epoch of training\n",
      "epoch_num: 2\n",
      "train_loss: tensor(0.0382, device='cuda:0')\n",
      "val_loss: tensor(0.0277, device='cuda:0')\n",
      "finish a epoch of training\n",
      "epoch_num: 3\n",
      "train_loss: tensor(0.0339, device='cuda:0')\n",
      "val_loss: tensor(0.0274, device='cuda:0')\n",
      "finish a epoch of training\n",
      "epoch_num: 4\n",
      "train_loss: tensor(0.0285, device='cuda:0')\n",
      "val_loss: tensor(0.0267, device='cuda:0')\n",
      "finish a epoch of training\n",
      "epoch_num: 5\n",
      "train_loss: tensor(0.0282, device='cuda:0')\n",
      "val_loss: tensor(0.0324, device='cuda:0')\n",
      "finish a epoch of training\n",
      "epoch_num: 6\n",
      "train_loss: tensor(0.0204, device='cuda:0')\n",
      "val_loss: tensor(0.0310, device='cuda:0')\n",
      "finish a epoch of training\n",
      "epoch_num: 7\n",
      "train_loss: tensor(0.0153, device='cuda:0')\n",
      "val_loss: tensor(0.0343, device='cuda:0')\n",
      "finish a epoch of training\n",
      "epoch_num: 8\n",
      "train_loss: tensor(0.0131, device='cuda:0')\n",
      "val_loss: tensor(0.0356, device='cuda:0')\n",
      "finish a epoch of training\n",
      "epoch_num: 9\n",
      "train_loss: tensor(0.0092, device='cuda:0')\n",
      "val_loss: tensor(0.0379, device='cuda:0')\n",
      "finish a epoch of training\n",
      "epoch_num: 10\n",
      "train_loss: tensor(0.0083, device='cuda:0')\n",
      "val_loss: tensor(0.0375, device='cuda:0')\n",
      "finish a epoch of training\n",
      "epoch_num: 11\n",
      "train_loss: tensor(0.0074, device='cuda:0')\n",
      "val_loss: tensor(0.0369, device='cuda:0')\n",
      "finish a epoch of training\n",
      "epoch_num: 12\n",
      "train_loss: tensor(0.0110, device='cuda:0')\n",
      "val_loss: tensor(0.0506, device='cuda:0')\n"
     ]
    }
   ],
   "source": [
    "training_address=\"food-101/train.csv\"\n",
    "test_address=\"food-101/test.csv\"\n",
    "train,val,test=get_dataloaders(training_address, test_address, args=None)\n",
    "model=resnet()\n",
    "criterion=nn.CrossEntropyLoss()\n",
    "optimizer=optim.Adam(model.parameters(), lr=0.0001)\n",
    "model.to(\"cuda:0\")\n",
    "m1,tl1,tc1,vl1,vc1=train_single_model(model, criterion, optimizer, scheduler=None, device=\"cuda:0\", dataloaders=a,epoch=13)"
   ]
  },
  {
   "cell_type": "code",
   "execution_count": 232,
   "id": "c4d721a1",
   "metadata": {},
   "outputs": [
    {
     "data": {
      "image/png": "[encoded data removed]",
      "text/plain": [
       "<Figure size 432x288 with 1 Axes>"
      ]
     },
     "metadata": {
      "needs_background": "light"
     },
     "output_type": "display_data"
    }
   ],
   "source": [
    "plt.plot(tc1, label='Training')\n",
    "plt.plot(vc1, label='Validation')\n",
    "plt.title('Training and Validation Accuracies')\n",
    "plt.xlabel('Epochs')\n",
    "plt.ylabel('Accuracy')\n",
    "plt.legend()\n",
    "plt.show()"
   ]
  },
  {
   "cell_type": "code",
   "execution_count": 233,
   "id": "6132d4f6",
   "metadata": {},
   "outputs": [
    {
     "data": {
      "image/png": "[encoded data removed]",
      "text/plain": [
       "<Figure size 432x288 with 1 Axes>"
      ]
     },
     "metadata": {
      "needs_background": "light"
     },
     "output_type": "display_data"
    }
   ],
   "source": [
    "tl=[]\n",
    "for i in tl1:\n",
    "    tl.append(i.cpu().item())\n",
    "vl=[]\n",
    "for i in vl1:\n",
    "    vl.append(i.cpu().item())\n",
    "plt.plot(list(tl), label='Training')\n",
    "plt.plot(list(vl), label='Validation')\n",
    "plt.title('Training and Validation Losses')\n",
    "plt.xlabel('Epoches')\n",
    "plt.ylabel('Loss')\n",
    "plt.legend()\n",
    "plt.show()"
   ]
  },
  {
   "cell_type": "code",
   "execution_count": 234,
   "id": "8587f1de",
   "metadata": {},
   "outputs": [
    {
     "data": {
      "text/plain": [
       "0.53"
      ]
     },
     "execution_count": 234,
     "metadata": {},
     "output_type": "execute_result"
    }
   ],
   "source": [
    "model.eval() # sets model in evaluation (inference) mode. \n",
    "correct = 0\n",
    "device=\"cuda:0\"\n",
    "with torch.no_grad(): # stop storing gradients for the variables\n",
    "    for data, target in a[2]:\n",
    "        data, target = data.to(device), target.to(device)\n",
    "        output = model(data)\n",
    "        pred = output.argmax(dim=1, keepdim=True) # get the index of maximum fc output. \n",
    "        correct += pred.eq(target.view_as(pred)).sum().item()\n",
    "    val_acc=correct / len(a[2].dataset)\n",
    "val_acc"
   ]
  },
  {
   "cell_type": "code",
   "execution_count": 237,
   "id": "e48985d6",
   "metadata": {},
   "outputs": [
    {
     "name": "stdout",
     "output_type": "stream",
     "text": [
      "finish a epoch of training\n",
      "epoch_num: 0\n",
      "train_loss: tensor(0.0736, device='cuda:0')\n",
      "val_loss: tensor(0.0446, device='cuda:0')\n",
      "finish a epoch of training\n",
      "epoch_num: 1\n",
      "train_loss: tensor(0.0605, device='cuda:0')\n",
      "val_loss: tensor(0.0371, device='cuda:0')\n",
      "finish a epoch of training\n",
      "epoch_num: 2\n",
      "train_loss: tensor(0.0533, device='cuda:0')\n",
      "val_loss: tensor(0.0334, device='cuda:0')\n",
      "finish a epoch of training\n",
      "epoch_num: 3\n",
      "train_loss: tensor(0.0489, device='cuda:0')\n",
      "val_loss: tensor(0.0316, device='cuda:0')\n"
     ]
    }
   ],
   "source": [
    "training_address=\"food-101/train.csv\"\n",
    "test_address=\"food-101/test.csv\"\n",
    "train,val,test=get_dataloaders(training_address, test_address, args=None)\n",
    "model=resnet()\n",
    "criterion=nn.CrossEntropyLoss()\n",
    "optimizer=optim.Adam(model.parameters(), lr=0.001)\n",
    "model.to(\"cuda:0\")\n",
    "m1,tl1,tc1,vl1,vc1=train_single_model(model, criterion, optimizer, scheduler=None, device=\"cuda:0\", dataloaders=a,epoch=4)"
   ]
  },
  {
   "cell_type": "code",
   "execution_count": 238,
   "id": "abf5b420",
   "metadata": {},
   "outputs": [
    {
     "data": {
      "text/plain": [
       "0.4756"
      ]
     },
     "execution_count": 238,
     "metadata": {},
     "output_type": "execute_result"
    }
   ],
   "source": [
    "model.eval() # sets model in evaluation (inference) mode. \n",
    "correct = 0\n",
    "device=\"cuda:0\"\n",
    "with torch.no_grad(): # stop storing gradients for the variables\n",
    "    for data, target in a[2]:\n",
    "        data, target = data.to(device), target.to(device)\n",
    "        output = model(data)\n",
    "        pred = output.argmax(dim=1, keepdim=True) # get the index of maximum fc output. \n",
    "        correct += pred.eq(target.view_as(pred)).sum().item()\n",
    "    val_acc=correct / len(a[2].dataset)\n",
    "val_acc"
   ]
  },
  {
   "cell_type": "code",
   "execution_count": 239,
   "id": "28f154f8",
   "metadata": {},
   "outputs": [],
   "source": [
    "class resnet(nn.Module):\n",
    "    def __init__(self):\n",
    "        super(resnet, self).__init__()\n",
    "        new=models.resnet18(pretrained=True)\n",
    "        self.conv1=new.conv1\n",
    "        self.bn1=new.bn1\n",
    "        self.relu=new.relu\n",
    "        self.maxpool=new.maxpool\n",
    "        self.layer1=new.layer1\n",
    "        self.layer2=new.layer2\n",
    "        self.avgpool=new.avgpool\n",
    "        self.fc=nn.Linear(128, 20)\n",
    "    def forward(self, x):\n",
    "        x=self.conv1(x)\n",
    "        x=self.bn1(x)\n",
    "        x=self.relu(x)\n",
    "        x=self.maxpool(x)\n",
    "        x=self.layer1(x)\n",
    "        x=self.layer2(x)\n",
    "        x=self.avgpool(x)\n",
    "        x=x.view(-1,128)\n",
    "        x=self.fc(x)\n",
    "        return x"
   ]
  },
  {
   "cell_type": "code",
   "execution_count": 240,
   "id": "98d4b119",
   "metadata": {},
   "outputs": [
    {
     "name": "stdout",
     "output_type": "stream",
     "text": [
      "finish a epoch of training\n",
      "epoch_num: 0\n",
      "train_loss: tensor(0.0694, device='cuda:0')\n",
      "val_loss: tensor(0.0418, device='cuda:0')\n",
      "finish a epoch of training\n",
      "epoch_num: 1\n",
      "train_loss: tensor(0.0605, device='cuda:0')\n",
      "val_loss: tensor(0.0369, device='cuda:0')\n",
      "finish a epoch of training\n",
      "epoch_num: 2\n",
      "train_loss: tensor(0.0516, device='cuda:0')\n",
      "val_loss: tensor(0.0321, device='cuda:0')\n",
      "finish a epoch of training\n",
      "epoch_num: 3\n",
      "train_loss: tensor(0.0492, device='cuda:0')\n",
      "val_loss: tensor(0.0314, device='cuda:0')\n",
      "finish a epoch of training\n",
      "epoch_num: 4\n",
      "train_loss: tensor(0.0487, device='cuda:0')\n",
      "val_loss: tensor(0.0325, device='cuda:0')\n",
      "finish a epoch of training\n",
      "epoch_num: 5\n",
      "train_loss: tensor(0.0443, device='cuda:0')\n",
      "val_loss: tensor(0.0307, device='cuda:0')\n",
      "finish a epoch of training\n",
      "epoch_num: 6\n",
      "train_loss: tensor(0.0421, device='cuda:0')\n",
      "val_loss: tensor(0.0299, device='cuda:0')\n",
      "finish a epoch of training\n",
      "epoch_num: 7\n",
      "train_loss: tensor(0.0428, device='cuda:0')\n",
      "val_loss: tensor(0.0323, device='cuda:0')\n",
      "finish a epoch of training\n",
      "epoch_num: 8\n",
      "train_loss: tensor(0.0424, device='cuda:0')\n",
      "val_loss: tensor(0.0327, device='cuda:0')\n",
      "finish a epoch of training\n",
      "epoch_num: 9\n",
      "train_loss: tensor(0.0332, device='cuda:0')\n",
      "val_loss: tensor(0.0280, device='cuda:0')\n"
     ]
    }
   ],
   "source": [
    "training_address=\"food-101/train.csv\"\n",
    "test_address=\"food-101/test.csv\"\n",
    "train,val,test=get_dataloaders(training_address, test_address, args=None)\n",
    "model=resnet()\n",
    "criterion=nn.CrossEntropyLoss()\n",
    "optimizer=optim.Adam(model.parameters(), lr=0.001)\n",
    "m1,tl1,tc1,vl1,vc1=train_single_model(model, criterion, optimizer, scheduler=None, device=\"cuda:0\", dataloaders=a,epoch=10)"
   ]
  },
  {
   "cell_type": "code",
   "execution_count": 241,
   "id": "029a706d",
   "metadata": {},
   "outputs": [
    {
     "data": {
      "image/png": "[encoded data removed]",
      "text/plain": [
       "<Figure size 432x288 with 1 Axes>"
      ]
     },
     "metadata": {
      "needs_background": "light"
     },
     "output_type": "display_data"
    }
   ],
   "source": [
    "plt.plot(tc1, label='Training')\n",
    "plt.plot(vc1, label='Validation')\n",
    "plt.title('Training and Validation Accuracies')\n",
    "plt.xlabel('Epochs')\n",
    "plt.ylabel('Accuracy')\n",
    "plt.legend()\n",
    "plt.show()"
   ]
  },
  {
   "cell_type": "code",
   "execution_count": 242,
   "id": "0d422939",
   "metadata": {},
   "outputs": [
    {
     "data": {
      "image/png": "[encoded data removed]",
      "text/plain": [
       "<Figure size 432x288 with 1 Axes>"
      ]
     },
     "metadata": {
      "needs_background": "light"
     },
     "output_type": "display_data"
    }
   ],
   "source": [
    "tl=[]\n",
    "for i in tl1:\n",
    "    tl.append(i.cpu().item())\n",
    "vl=[]\n",
    "for i in vl1:\n",
    "    vl.append(i.cpu().item())\n",
    "plt.plot(list(tl), label='Training')\n",
    "plt.plot(list(vl), label='Validation')\n",
    "plt.title('Training and Validation Losses')\n",
    "plt.xlabel('Epoches')\n",
    "plt.ylabel('Loss')\n",
    "plt.legend()\n",
    "plt.show()"
   ]
  },
  {
   "cell_type": "code",
   "execution_count": 243,
   "id": "2b42c928",
   "metadata": {},
   "outputs": [],
   "source": [
    "model.eval() # sets model in evaluation (inference) mode. \n",
    "correct = 0\n",
    "device=\"cuda:0\"\n",
    "with torch.no_grad(): # stop storing gradients for the variables\n",
    "    for data, target in a[2]:\n",
    "        data, target = data.to(device), target.to(device)\n",
    "        output = model(data)\n",
    "        pred = output.argmax(dim=1, keepdim=True) # get the index of maximum fc output. \n",
    "        correct += pred.eq(target.view_as(pred)).sum().item()\n",
    "    val_acc=correct / len(a[2].dataset)"
   ]
  },
  {
   "cell_type": "code",
   "execution_count": 244,
   "id": "61151516",
   "metadata": {},
   "outputs": [
    {
     "data": {
      "text/plain": [
       "0.516"
      ]
     },
     "execution_count": 244,
     "metadata": {},
     "output_type": "execute_result"
    }
   ],
   "source": [
    "val_acc"
   ]
  },
  {
   "cell_type": "code",
   "execution_count": null,
   "id": "4a1e9f1e",
   "metadata": {},
   "outputs": [],
   "source": []
  }
 ],
 "metadata": {
  "kernelspec": {
   "display_name": "Python 3 (clean)",
   "language": "python",
   "name": "python3_clean"
  },
  "language_info": {
   "codemirror_mode": {
    "name": "ipython",
    "version": 3
   },
   "file_extension": ".py",
   "mimetype": "text/x-python",
   "name": "python",
   "nbconvert_exporter": "python",
   "pygments_lexer": "ipython3",
   "version": "3.9.5"
  }
 },
 "nbformat": 4,
 "nbformat_minor": 5
}
