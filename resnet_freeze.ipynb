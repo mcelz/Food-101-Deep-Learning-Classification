{
 "cells": [
  {
   "cell_type": "code",
   "execution_count": 49,
   "id": "3aa403c8",
   "metadata": {},
   "outputs": [],
   "source": [
    "import torch\n",
    "import torch.nn as nn\n",
    "import torchvision.models as models\n",
    "import torch.nn.functional as F\n",
    "import torch.optim as optim\n",
    "from prepare_data import *\n",
    "from data import *"
   ]
  },
  {
   "cell_type": "code",
   "execution_count": 50,
   "id": "a5c28013",
   "metadata": {},
   "outputs": [],
   "source": [
    "def prepare_model(device, model):\n",
    "    # load model, criterion, optimizer, and learning rate scheduler\n",
    "    \n",
    "    # Create an empty model and move it to the designated computing device\n",
    "    model=model.to(device)\n",
    "\n",
    "\n",
    "    return model\n",
    "\n",
    "def train_single_model(model, criterion, optimizer, scheduler, device, dataloaders,epoch):\n",
    "    \n",
    "    # prepare the model\n",
    "    model=prepare_model(device,model)\n",
    "    \n",
    "    # store the results of our training\n",
    "    training_losses=[]\n",
    "    training_accs=[]\n",
    "    val_losses=[]\n",
    "    val_accs=[]\n",
    "\n",
    "    for i in range(epoch):\n",
    "        # train the model in each epoch\n",
    "        model.train()\n",
    "        for batch_idx, (data, target) in enumerate(dataloaders[0]):\n",
    "            data, target = data.to(device), target.to(device)\n",
    "            optimizer.zero_grad() # clear the old gradients \n",
    "            output = model(data) # compute outputs of the fc layer \n",
    "            loss = criterion(output, target) \n",
    "            loss.backward() # compute gradient for every variables with requires_grad=True\n",
    "            optimizer.step()\n",
    "        if scheduler is not None:\n",
    "            scheduler.step()\n",
    "        \n",
    "        print(\"finish a epoch of training\")\n",
    "            \n",
    "        # test the model with the training data:\n",
    "        model.eval() # sets model in evaluation (inference) mode. \n",
    "        training_loss = 0 \n",
    "        correct = 0\n",
    "        with torch.no_grad(): # stop storing gradients for the variables\n",
    "            for data, target in dataloaders[0]:\n",
    "                data, target = data.to(device), target.to(device)\n",
    "                output = model(data)\n",
    "                training_loss+=criterion(output, target)\n",
    "                pred = output.argmax(dim=1, keepdim=True) # get the index of maximum fc output. \n",
    "                correct += pred.eq(target.view_as(pred)).sum().item()\n",
    "        training_loss /= len(dataloaders[0].dataset)\n",
    "        training_losses.append(training_loss)\n",
    "        training_acc=correct / len(dataloaders[0].dataset)\n",
    "        training_accs.append(training_acc)\n",
    "        \n",
    "        \n",
    "        # test the model with validation data in each epoch\n",
    "        model.eval() # sets model in evaluation (inference) mode.  \n",
    "        val_loss = 0 \n",
    "        correct = 0\n",
    "        with torch.no_grad(): # stop storing gradients for the variables\n",
    "            for data, target in dataloaders[1]:\n",
    "                data, target = data.to(device), target.to(device)\n",
    "                output = model(data)\n",
    "                val_loss+=criterion(output, target)\n",
    "                pred = output.argmax(dim=1, keepdim=True) # get the index of maximum fc output. \n",
    "                correct += pred.eq(target.view_as(pred)).sum().item()\n",
    "        val_loss /= len(dataloaders[1].dataset)\n",
    "        val_losses.append(val_loss)\n",
    "        val_acc=correct / len(dataloaders[1].dataset)\n",
    "        val_accs.append(val_acc)\n",
    "        print(\"epoch_num: \"+str(i))\n",
    "        print(\"train_loss: \"+str(training_loss))\n",
    "        print(\"val_loss: \"+str(val_loss))\n",
    "\n",
    "    torch.save(model.state_dict(), \"food-101/state_dict_model3.pt\")\n",
    "    return model,training_losses,training_accs,val_losses,val_accs"
   ]
  },
  {
   "cell_type": "code",
   "execution_count": 51,
   "id": "02a6e43f",
   "metadata": {},
   "outputs": [],
   "source": [
    "# freeze all the weights for resnet\n",
    "class resnet(nn.Module):\n",
    "    def __init__(self):\n",
    "        super(resnet, self).__init__()\n",
    "        temp=models.resnet18(pretrained=True)\n",
    "        for param in temp.parameters():\n",
    "            param.requires_grad = False\n",
    "        num_ftrs = temp.fc.in_features\n",
    "        temp.fc = nn.Linear(num_ftrs, 20)\n",
    "        self.model=temp\n",
    "        \n",
    "    def forward(self, x):\n",
    "        x=self.model(x)\n",
    "        return x"
   ]
  },
  {
   "cell_type": "code",
   "execution_count": 52,
   "id": "0dd0cb61",
   "metadata": {},
   "outputs": [
    {
     "name": "stdout",
     "output_type": "stream",
     "text": [
      "finish a epoch of training\n",
      "epoch_num: 0\n",
      "train_loss: tensor(0.0805, device='cuda:0')\n",
      "val_loss: tensor(0.0483, device='cuda:0')\n",
      "finish a epoch of training\n",
      "epoch_num: 1\n",
      "train_loss: tensor(0.0672, device='cuda:0')\n",
      "val_loss: tensor(0.0406, device='cuda:0')\n",
      "finish a epoch of training\n",
      "epoch_num: 2\n",
      "train_loss: tensor(0.0593, device='cuda:0')\n",
      "val_loss: tensor(0.0359, device='cuda:0')\n",
      "finish a epoch of training\n",
      "epoch_num: 3\n",
      "train_loss: tensor(0.0541, device='cuda:0')\n",
      "val_loss: tensor(0.0330, device='cuda:0')\n",
      "finish a epoch of training\n",
      "epoch_num: 4\n",
      "train_loss: tensor(0.0504, device='cuda:0')\n",
      "val_loss: tensor(0.0308, device='cuda:0')\n",
      "finish a epoch of training\n",
      "epoch_num: 5\n",
      "train_loss: tensor(0.0478, device='cuda:0')\n",
      "val_loss: tensor(0.0294, device='cuda:0')\n",
      "finish a epoch of training\n",
      "epoch_num: 6\n",
      "train_loss: tensor(0.0463, device='cuda:0')\n",
      "val_loss: tensor(0.0286, device='cuda:0')\n",
      "finish a epoch of training\n",
      "epoch_num: 7\n",
      "train_loss: tensor(0.0444, device='cuda:0')\n",
      "val_loss: tensor(0.0276, device='cuda:0')\n",
      "finish a epoch of training\n",
      "epoch_num: 8\n",
      "train_loss: tensor(0.0431, device='cuda:0')\n",
      "val_loss: tensor(0.0268, device='cuda:0')\n",
      "finish a epoch of training\n",
      "epoch_num: 9\n",
      "train_loss: tensor(0.0417, device='cuda:0')\n",
      "val_loss: tensor(0.0261, device='cuda:0')\n",
      "finish a epoch of training\n",
      "epoch_num: 10\n",
      "train_loss: tensor(0.0412, device='cuda:0')\n",
      "val_loss: tensor(0.0258, device='cuda:0')\n",
      "finish a epoch of training\n",
      "epoch_num: 11\n",
      "train_loss: tensor(0.0402, device='cuda:0')\n",
      "val_loss: tensor(0.0253, device='cuda:0')\n",
      "finish a epoch of training\n",
      "epoch_num: 12\n",
      "train_loss: tensor(0.0394, device='cuda:0')\n",
      "val_loss: tensor(0.0249, device='cuda:0')\n",
      "finish a epoch of training\n",
      "epoch_num: 13\n",
      "train_loss: tensor(0.0387, device='cuda:0')\n",
      "val_loss: tensor(0.0245, device='cuda:0')\n",
      "finish a epoch of training\n",
      "epoch_num: 14\n",
      "train_loss: tensor(0.0383, device='cuda:0')\n",
      "val_loss: tensor(0.0243, device='cuda:0')\n",
      "finish a epoch of training\n",
      "epoch_num: 15\n",
      "train_loss: tensor(0.0380, device='cuda:0')\n",
      "val_loss: tensor(0.0243, device='cuda:0')\n",
      "finish a epoch of training\n",
      "epoch_num: 16\n",
      "train_loss: tensor(0.0373, device='cuda:0')\n",
      "val_loss: tensor(0.0241, device='cuda:0')\n",
      "finish a epoch of training\n",
      "epoch_num: 17\n",
      "train_loss: tensor(0.0371, device='cuda:0')\n",
      "val_loss: tensor(0.0240, device='cuda:0')\n",
      "finish a epoch of training\n",
      "epoch_num: 18\n",
      "train_loss: tensor(0.0366, device='cuda:0')\n",
      "val_loss: tensor(0.0238, device='cuda:0')\n",
      "finish a epoch of training\n",
      "epoch_num: 19\n",
      "train_loss: tensor(0.0362, device='cuda:0')\n",
      "val_loss: tensor(0.0237, device='cuda:0')\n",
      "finish a epoch of training\n",
      "epoch_num: 20\n",
      "train_loss: tensor(0.0359, device='cuda:0')\n",
      "val_loss: tensor(0.0234, device='cuda:0')\n",
      "finish a epoch of training\n",
      "epoch_num: 21\n",
      "train_loss: tensor(0.0357, device='cuda:0')\n",
      "val_loss: tensor(0.0234, device='cuda:0')\n",
      "finish a epoch of training\n",
      "epoch_num: 22\n",
      "train_loss: tensor(0.0351, device='cuda:0')\n",
      "val_loss: tensor(0.0231, device='cuda:0')\n",
      "finish a epoch of training\n",
      "epoch_num: 23\n",
      "train_loss: tensor(0.0351, device='cuda:0')\n",
      "val_loss: tensor(0.0232, device='cuda:0')\n",
      "finish a epoch of training\n",
      "epoch_num: 24\n",
      "train_loss: tensor(0.0345, device='cuda:0')\n",
      "val_loss: tensor(0.0228, device='cuda:0')\n"
     ]
    }
   ],
   "source": [
    "training_address=\"food-101/train.csv\"\n",
    "test_address=\"food-101/test.csv\"\n",
    "train,val,test=get_dataloaders(training_address, test_address, args=None)\n",
    "model=resnet()\n",
    "criterion=nn.CrossEntropyLoss()\n",
    "optimizer=optim.Adam(model.parameters(), lr=0.0001)\n",
    "a=[train,val,test]\n",
    "m1,tl1,tc1,vl1,vc1=train_single_model(model, criterion, optimizer, scheduler=None, device=\"cuda:0\", dataloaders=a,epoch=25)"
   ]
  },
  {
   "cell_type": "code",
   "execution_count": 53,
   "id": "431e335d",
   "metadata": {},
   "outputs": [
    {
     "data": {
      "image/png": "[encoded data removed]",
      "text/plain": [
       "<Figure size 432x288 with 1 Axes>"
      ]
     },
     "metadata": {
      "needs_background": "light"
     },
     "output_type": "display_data"
    }
   ],
   "source": [
    "import matplotlib.pyplot as plt\n",
    "plt.plot(tc1, label='Training')\n",
    "plt.plot(vc1, label='Validation')\n",
    "plt.title('Training and Validation Accuracies')\n",
    "plt.xlabel('Epochs')\n",
    "plt.ylabel('Accuracy')\n",
    "plt.legend()\n",
    "plt.show()"
   ]
  },
  {
   "cell_type": "code",
   "execution_count": 54,
   "id": "967df3b2",
   "metadata": {},
   "outputs": [],
   "source": [
    "tl=[]\n",
    "for i in tl1:\n",
    "    tl.append(i.cpu().item())\n",
    "vl=[]\n",
    "for i in vl1:\n",
    "    vl.append(i.cpu().item())"
   ]
  },
  {
   "cell_type": "code",
   "execution_count": 55,
   "id": "ff214fc6",
   "metadata": {},
   "outputs": [
    {
     "data": {
      "image/png": "[encoded data removed]",
      "text/plain": [
       "<Figure size 432x288 with 1 Axes>"
      ]
     },
     "metadata": {
      "needs_background": "light"
     },
     "output_type": "display_data"
    }
   ],
   "source": [
    "plt.plot(tl, label='Training')\n",
    "plt.plot(vl, label='Validation')\n",
    "plt.title('Training and Validation Losses')\n",
    "plt.xlabel('Epoches')\n",
    "plt.ylabel('Loss')\n",
    "plt.legend()\n",
    "plt.show()"
   ]
  },
  {
   "cell_type": "code",
   "execution_count": 56,
   "id": "d71162fe",
   "metadata": {},
   "outputs": [],
   "source": [
    "model.eval() \n",
    "correct = 0\n",
    "device=\"cuda:0\"\n",
    "with torch.no_grad(): # stop storing gradients for the variables\n",
    "    for data, target in a[2]:\n",
    "        data, target = data.to(device), target.to(device)\n",
    "        output = model(data)\n",
    "        pred = output.argmax(dim=1, keepdim=True) # get the index of maximum fc output. \n",
    "        correct += pred.eq(target.view_as(pred)).sum().item()\n",
    "    val_acc=correct / len(a[2].dataset)"
   ]
  },
  {
   "cell_type": "code",
   "execution_count": 57,
   "id": "d1b5cfe7",
   "metadata": {},
   "outputs": [
    {
     "data": {
      "text/plain": [
       "0.6678"
      ]
     },
     "execution_count": 57,
     "metadata": {},
     "output_type": "execute_result"
    }
   ],
   "source": [
    "val_acc"
   ]
  },
  {
   "cell_type": "code",
   "execution_count": 58,
   "id": "dbb0a045",
   "metadata": {},
   "outputs": [],
   "source": [
    "torch.save(model.state_dict(), \"food-101/resnet_freeze_full_layer.pt\")"
   ]
  },
  {
   "cell_type": "code",
   "execution_count": null,
   "id": "da7f811d",
   "metadata": {},
   "outputs": [],
   "source": []
  }
 ],
 "metadata": {
  "kernelspec": {
   "display_name": "Python 3 (clean)",
   "language": "python",
   "name": "python3_clean"
  },
  "language_info": {
   "codemirror_mode": {
    "name": "ipython",
    "version": 3
   },
   "file_extension": ".py",
   "mimetype": "text/x-python",
   "name": "python",
   "nbconvert_exporter": "python",
   "pygments_lexer": "ipython3",
   "version": "3.9.5"
  }
 },
 "nbformat": 4,
 "nbformat_minor": 5
}
