{
 "cells": [
  {
   "cell_type": "code",
   "execution_count": 1,
   "id": "a321b9fd",
   "metadata": {},
   "outputs": [],
   "source": [
    "# Load the important files\n",
    "from prepare_data import *\n",
    "from data import *"
   ]
  },
  {
   "cell_type": "code",
   "execution_count": 2,
   "id": "921ea8ba",
   "metadata": {},
   "outputs": [],
   "source": [
    "import torch\n",
    "import torch.nn as nn\n",
    "import torchvision.models as models\n",
    "import torch.nn.functional as F"
   ]
  },
  {
   "cell_type": "code",
   "execution_count": 3,
   "id": "e827b311",
   "metadata": {},
   "outputs": [],
   "source": [
    "import math\n",
    "import matplotlib.pyplot as plt"
   ]
  },
  {
   "cell_type": "code",
   "execution_count": 4,
   "id": "ae13c436",
   "metadata": {},
   "outputs": [],
   "source": [
    "training_address=\"food-101/train.csv\"\n",
    "test_address=\"food-101/test.csv\""
   ]
  },
  {
   "cell_type": "code",
   "execution_count": 5,
   "id": "6761ca00",
   "metadata": {},
   "outputs": [],
   "source": [
    "train,val,test=get_dataloaders(training_address, test_address, args=None)"
   ]
  },
  {
   "cell_type": "markdown",
   "id": "0ed4c1b0",
   "metadata": {},
   "source": [
    "# Custom Model"
   ]
  },
  {
   "cell_type": "code",
   "execution_count": 6,
   "id": "f3291e61",
   "metadata": {},
   "outputs": [],
   "source": [
    "import torch.optim as optim\n",
    "import torch.nn.functional as F\n",
    "def prepare_model(device, model):\n",
    "    # load model, criterion, optimizer, and learning rate scheduler\n",
    "    \n",
    "    # Create an empty model and move it to the designated computing device\n",
    "    model=model.to(device)\n",
    "\n",
    "\n",
    "    return model\n",
    "\n",
    "def train_single_model(model, criterion, optimizer, scheduler, device, dataloaders,epoch):\n",
    "    \n",
    "    # prepare the model\n",
    "    model=prepare_model(device,model)\n",
    "    \n",
    "    # store the results of our training\n",
    "    training_losses=[]\n",
    "    training_accs=[]\n",
    "    val_losses=[]\n",
    "    val_accs=[]\n",
    "\n",
    "    for i in range(epoch):\n",
    "        # train the model in each epoch\n",
    "        model.train()\n",
    "        for batch_idx, (data, target) in enumerate(dataloaders[0]):\n",
    "            data, target = data.to(device), target.to(device)\n",
    "            optimizer.zero_grad() # clear the old gradients \n",
    "            output = model(data) # compute outputs of the fc layer \n",
    "            loss = criterion(output, target) \n",
    "            loss.backward() # compute gradient for every variables with requires_grad=True\n",
    "            optimizer.step()\n",
    "        if scheduler is not None:\n",
    "            scheduler.step()\n",
    "        \n",
    "        print(\"finish a epoch of training\")\n",
    "            \n",
    "        # test the model with the training data:\n",
    "        model.eval() # sets model in evaluation (inference) mode. Q3. Why? \n",
    "        training_loss = 0 \n",
    "        correct = 0\n",
    "        with torch.no_grad(): # stop storing gradients for the variables\n",
    "            for data, target in dataloaders[0]:\n",
    "                data, target = data.to(device), target.to(device)\n",
    "                output = model(data)\n",
    "                training_loss+=criterion(output, target)\n",
    "                pred = output.argmax(dim=1, keepdim=True) # get the index of maximum fc output. Q4. Why?\n",
    "                correct += pred.eq(target.view_as(pred)).sum().item()\n",
    "        training_loss /= len(dataloaders[0].dataset)\n",
    "        training_losses.append(training_loss)\n",
    "        training_acc=correct / len(dataloaders[0].dataset)\n",
    "        training_accs.append(training_acc)\n",
    "        \n",
    "        \n",
    "        # test the model with validation data in each epoch\n",
    "        model.eval() # sets model in evaluation (inference) mode. Q3. Why? \n",
    "        val_loss = 0 \n",
    "        correct = 0\n",
    "        with torch.no_grad(): # stop storing gradients for the variables\n",
    "            for data, target in dataloaders[1]:\n",
    "                data, target = data.to(device), target.to(device)\n",
    "                output = model(data)\n",
    "                val_loss+=criterion(output, target)\n",
    "                pred = output.argmax(dim=1, keepdim=True) # get the index of maximum fc output. Q4. Why?\n",
    "                correct += pred.eq(target.view_as(pred)).sum().item()\n",
    "        val_loss /= len(dataloaders[1].dataset)\n",
    "        val_losses.append(val_loss)\n",
    "        val_acc=correct / len(dataloaders[1].dataset)\n",
    "        val_accs.append(val_acc)\n",
    "        print(\"epoch_num: \"+str(i))\n",
    "        print(\"train accu: \",training_acc)\n",
    "        print(\"train_loss: \"+str(training_loss))\n",
    "        print(\"val_loss: \"+str(val_loss))\n",
    "\n",
    "    torch.save(model.state_dict(), \"food-101/state_dict_model.pt\")\n",
    "    return model,training_losses,training_accs,val_losses,val_accs"
   ]
  },
  {
   "cell_type": "code",
   "execution_count": 7,
   "id": "e7b08530",
   "metadata": {},
   "outputs": [],
   "source": [
    "a=[train,val,test]"
   ]
  },
  {
   "cell_type": "code",
   "execution_count": 8,
   "id": "1f8df390",
   "metadata": {},
   "outputs": [],
   "source": [
    "class custom(nn.Module):\n",
    "    def __init__(self):\n",
    "        super(custom, self).__init__()\n",
    "        self.conv1 = nn.Conv2d(3, 64, kernel_size=3)\n",
    "        self.BN1=nn.BatchNorm2d(64)\n",
    "        self.drop_out3=nn.Dropout(p=0.2)\n",
    "        \n",
    "        self.conv2= nn.Conv2d(64, 128, kernel_size=3)\n",
    "        self.BN2=nn.BatchNorm2d(128)\n",
    "        \n",
    "        \n",
    "        self.conv3= nn.Conv2d(128, 256, kernel_size=3)\n",
    "        self.BN3=nn.BatchNorm2d(256)\n",
    "        \n",
    "        self.avg_pool1 = nn.AdaptiveAvgPool2d((107, 107))\n",
    "        \n",
    "        self.conv4= nn.Conv2d(256, 256, kernel_size=3)\n",
    "        self.BN4=nn.BatchNorm2d(256)\n",
    "        \n",
    "        \n",
    "        self.conv5= nn.Conv2d(256, 512, kernel_size=3)\n",
    "        self.BN5=nn.BatchNorm2d(512)\n",
    "        self.max3 = nn.MaxPool2d(kernel_size=3, stride=2, padding=1)\n",
    "        \n",
    "        self.conv6= nn.Conv2d(512, 128, kernel_size=3,stride=2)\n",
    "        self.BN6=nn.BatchNorm2d(128)\n",
    "        self.max4 = nn.MaxPool2d(kernel_size=3, stride=2, padding=1)\n",
    "        \n",
    "        self.avg_pool=nn.AdaptiveAvgPool2d(1)\n",
    "        \n",
    "        # Compute the input units using the formula given in discussion session 128*63*63\n",
    "        self.fc1=nn.Linear(128, 128)\n",
    "        self.drop_out=nn.Dropout()\n",
    "        self.fc2=nn.Linear(128,20)\n",
    "        \n",
    "    def forward(self, x):\n",
    "        # layer1\n",
    "        x=self.conv1(x)\n",
    "        x=self.BN1(x)\n",
    "        x=F.relu(self.drop_out3(x))\n",
    "        \n",
    "        # Layer2\n",
    "        x=self.conv2(x)\n",
    "        x=self.BN2(x)\n",
    "        x=F.relu(x)\n",
    "        \n",
    "        # Layer3\n",
    "        x=self.conv3(x)\n",
    "        x=self.BN3(x)\n",
    "        x=F.relu(x)\n",
    "        \n",
    "        x = self.avg_pool1(x)\n",
    "        \n",
    "        # Layer4\n",
    "        x=self.conv4(x)\n",
    "        x=self.BN4(x)\n",
    "        x=F.relu(x)\n",
    "        x=F.max_pool2d(x,3)\n",
    "        \n",
    "        # Layer5\n",
    "        x=self.conv5(x)\n",
    "        x=self.BN5(x)\n",
    "        x=F.relu(x)\n",
    "        x=self.max3(x)\n",
    "        \n",
    "        # Layer6\n",
    "        x=self.conv6(x)\n",
    "        x=self.BN6(x)\n",
    "        x=F.relu(x)\n",
    "        x=self.max4(x)\n",
    "        \n",
    "        x=self.avg_pool(x)\n",
    "        # fully connected layer 1\n",
    "        x=x.view(-1,128) # faltten the input\n",
    "        x=self.fc1(x)\n",
    "        x=F.relu(self.drop_out(x))\n",
    "        # fully connected layer 2\n",
    "        x=self.fc2(x)\n",
    "        return x"
   ]
  },
  {
   "cell_type": "code",
   "execution_count": 9,
   "id": "8e623e0a",
   "metadata": {},
   "outputs": [
    {
     "data": {
      "text/plain": [
       "custom(\n",
       "  (conv1): Conv2d(3, 64, kernel_size=(3, 3), stride=(1, 1))\n",
       "  (BN1): BatchNorm2d(64, eps=1e-05, momentum=0.1, affine=True, track_running_stats=True)\n",
       "  (drop_out3): Dropout(p=0.2, inplace=False)\n",
       "  (conv2): Conv2d(64, 128, kernel_size=(3, 3), stride=(1, 1))\n",
       "  (BN2): BatchNorm2d(128, eps=1e-05, momentum=0.1, affine=True, track_running_stats=True)\n",
       "  (conv3): Conv2d(128, 256, kernel_size=(3, 3), stride=(1, 1))\n",
       "  (BN3): BatchNorm2d(256, eps=1e-05, momentum=0.1, affine=True, track_running_stats=True)\n",
       "  (avg_pool1): AdaptiveAvgPool2d(output_size=(107, 107))\n",
       "  (conv4): Conv2d(256, 256, kernel_size=(3, 3), stride=(1, 1))\n",
       "  (BN4): BatchNorm2d(256, eps=1e-05, momentum=0.1, affine=True, track_running_stats=True)\n",
       "  (conv5): Conv2d(256, 512, kernel_size=(3, 3), stride=(1, 1))\n",
       "  (BN5): BatchNorm2d(512, eps=1e-05, momentum=0.1, affine=True, track_running_stats=True)\n",
       "  (max3): MaxPool2d(kernel_size=3, stride=2, padding=1, dilation=1, ceil_mode=False)\n",
       "  (conv6): Conv2d(512, 128, kernel_size=(3, 3), stride=(2, 2))\n",
       "  (BN6): BatchNorm2d(128, eps=1e-05, momentum=0.1, affine=True, track_running_stats=True)\n",
       "  (max4): MaxPool2d(kernel_size=3, stride=2, padding=1, dilation=1, ceil_mode=False)\n",
       "  (avg_pool): AdaptiveAvgPool2d(output_size=1)\n",
       "  (fc1): Linear(in_features=128, out_features=128, bias=True)\n",
       "  (drop_out): Dropout(p=0.5, inplace=False)\n",
       "  (fc2): Linear(in_features=128, out_features=20, bias=True)\n",
       ")"
      ]
     },
     "execution_count": 9,
     "metadata": {},
     "output_type": "execute_result"
    }
   ],
   "source": [
    "model=custom()\n",
    "criterion=nn.CrossEntropyLoss()\n",
    "optimizer=optim.Adam(model.parameters(), lr=0.001)\n",
    "def Xavier_Initialization(m):\n",
    "    if isinstance(m, nn.Conv2d):\n",
    "        nn.init.xavier_uniform_(m.weight.data)\n",
    "        nn.init.normal_(m.bias.data, mean=0.0, std=1.0)\n",
    "model.apply(Xavier_Initialization)"
   ]
  },
  {
   "cell_type": "code",
   "execution_count": 10,
   "id": "6a78804e",
   "metadata": {
    "scrolled": false
   },
   "outputs": [
    {
     "name": "stderr",
     "output_type": "stream",
     "text": [
      "/opt/conda/lib/python3.9/site-packages/torch/nn/functional.py:718: UserWarning: Named tensors and all their associated APIs are an experimental feature and subject to change. Please do not use them for anything important until they are released as stable. (Triggered internally at  /pytorch/c10/core/TensorImpl.h:1156.)\n",
      "  return torch.max_pool2d(input, kernel_size, stride, padding, dilation, ceil_mode)\n"
     ]
    },
    {
     "name": "stdout",
     "output_type": "stream",
     "text": [
      "finish a epoch of training\n",
      "epoch_num: 0\n",
      "train accu:  0.22008333333333333\n",
      "train_loss: tensor(0.1589, device='cuda:0')\n",
      "val_loss: tensor(0.1590, device='cuda:0')\n",
      "finish a epoch of training\n",
      "epoch_num: 1\n",
      "train accu:  0.23208333333333334\n",
      "train_loss: tensor(0.1542, device='cuda:0')\n",
      "val_loss: tensor(0.1549, device='cuda:0')\n",
      "finish a epoch of training\n",
      "epoch_num: 2\n",
      "train accu:  0.2655\n",
      "train_loss: tensor(0.1502, device='cuda:0')\n",
      "val_loss: tensor(0.1508, device='cuda:0')\n",
      "finish a epoch of training\n",
      "epoch_num: 3\n",
      "train accu:  0.28833333333333333\n",
      "train_loss: tensor(0.1456, device='cuda:0')\n",
      "val_loss: tensor(0.1467, device='cuda:0')\n",
      "finish a epoch of training\n",
      "epoch_num: 4\n",
      "train accu:  0.29633333333333334\n",
      "train_loss: tensor(0.1430, device='cuda:0')\n",
      "val_loss: tensor(0.1436, device='cuda:0')\n",
      "finish a epoch of training\n",
      "epoch_num: 5\n",
      "train accu:  0.31516666666666665\n",
      "train_loss: tensor(0.1407, device='cuda:0')\n",
      "val_loss: tensor(0.1410, device='cuda:0')\n",
      "finish a epoch of training\n",
      "epoch_num: 6\n",
      "train accu:  0.3149166666666667\n",
      "train_loss: tensor(0.1385, device='cuda:0')\n",
      "val_loss: tensor(0.1400, device='cuda:0')\n",
      "finish a epoch of training\n",
      "epoch_num: 7\n",
      "train accu:  0.34258333333333335\n",
      "train_loss: tensor(0.1331, device='cuda:0')\n",
      "val_loss: tensor(0.1350, device='cuda:0')\n",
      "finish a epoch of training\n",
      "epoch_num: 8\n",
      "train accu:  0.3665833333333333\n",
      "train_loss: tensor(0.1303, device='cuda:0')\n",
      "val_loss: tensor(0.1326, device='cuda:0')\n",
      "finish a epoch of training\n",
      "epoch_num: 9\n",
      "train accu:  0.3745833333333333\n",
      "train_loss: tensor(0.1271, device='cuda:0')\n",
      "val_loss: tensor(0.1300, device='cuda:0')\n",
      "finish a epoch of training\n",
      "epoch_num: 10\n",
      "train accu:  0.40391666666666665\n",
      "train_loss: tensor(0.1214, device='cuda:0')\n",
      "val_loss: tensor(0.1245, device='cuda:0')\n",
      "finish a epoch of training\n",
      "epoch_num: 11\n",
      "train accu:  0.4245833333333333\n",
      "train_loss: tensor(0.1181, device='cuda:0')\n",
      "val_loss: tensor(0.1221, device='cuda:0')\n",
      "finish a epoch of training\n",
      "epoch_num: 12\n",
      "train accu:  0.41841666666666666\n",
      "train_loss: tensor(0.1176, device='cuda:0')\n",
      "val_loss: tensor(0.1234, device='cuda:0')\n",
      "finish a epoch of training\n",
      "epoch_num: 13\n",
      "train accu:  0.44558333333333333\n",
      "train_loss: tensor(0.1134, device='cuda:0')\n",
      "val_loss: tensor(0.1195, device='cuda:0')\n",
      "finish a epoch of training\n",
      "epoch_num: 14\n",
      "train accu:  0.46008333333333334\n",
      "train_loss: tensor(0.1099, device='cuda:0')\n",
      "val_loss: tensor(0.1166, device='cuda:0')\n",
      "finish a epoch of training\n",
      "epoch_num: 15\n",
      "train accu:  0.4860833333333333\n",
      "train_loss: tensor(0.1066, device='cuda:0')\n",
      "val_loss: tensor(0.1136, device='cuda:0')\n",
      "finish a epoch of training\n",
      "epoch_num: 16\n",
      "train accu:  0.489\n",
      "train_loss: tensor(0.1039, device='cuda:0')\n",
      "val_loss: tensor(0.1121, device='cuda:0')\n",
      "finish a epoch of training\n",
      "epoch_num: 17\n",
      "train accu:  0.5021666666666667\n",
      "train_loss: tensor(0.1016, device='cuda:0')\n",
      "val_loss: tensor(0.1122, device='cuda:0')\n",
      "finish a epoch of training\n",
      "epoch_num: 18\n",
      "train accu:  0.4950833333333333\n",
      "train_loss: tensor(0.1030, device='cuda:0')\n",
      "val_loss: tensor(0.1139, device='cuda:0')\n",
      "finish a epoch of training\n",
      "epoch_num: 19\n",
      "train accu:  0.5323333333333333\n",
      "train_loss: tensor(0.0954, device='cuda:0')\n",
      "val_loss: tensor(0.1090, device='cuda:0')\n",
      "finish a epoch of training\n",
      "epoch_num: 20\n",
      "train accu:  0.5394166666666667\n",
      "train_loss: tensor(0.0946, device='cuda:0')\n",
      "val_loss: tensor(0.1077, device='cuda:0')\n",
      "finish a epoch of training\n",
      "epoch_num: 21\n",
      "train accu:  0.5271666666666667\n",
      "train_loss: tensor(0.0971, device='cuda:0')\n",
      "val_loss: tensor(0.1125, device='cuda:0')\n",
      "finish a epoch of training\n",
      "epoch_num: 22\n",
      "train accu:  0.49316666666666664\n",
      "train_loss: tensor(0.1012, device='cuda:0')\n",
      "val_loss: tensor(0.1180, device='cuda:0')\n",
      "finish a epoch of training\n",
      "epoch_num: 23\n",
      "train accu:  0.5735833333333333\n",
      "train_loss: tensor(0.0856, device='cuda:0')\n",
      "val_loss: tensor(0.1058, device='cuda:0')\n",
      "finish a epoch of training\n",
      "epoch_num: 24\n",
      "train accu:  0.5885\n",
      "train_loss: tensor(0.0832, device='cuda:0')\n",
      "val_loss: tensor(0.1056, device='cuda:0')\n",
      "finish a epoch of training\n",
      "epoch_num: 25\n",
      "train accu:  0.61975\n",
      "train_loss: tensor(0.0778, device='cuda:0')\n",
      "val_loss: tensor(0.1017, device='cuda:0')\n",
      "finish a epoch of training\n",
      "epoch_num: 26\n",
      "train accu:  0.5899166666666666\n",
      "train_loss: tensor(0.0811, device='cuda:0')\n",
      "val_loss: tensor(0.1083, device='cuda:0')\n",
      "finish a epoch of training\n",
      "epoch_num: 27\n",
      "train accu:  0.6451666666666667\n",
      "train_loss: tensor(0.0723, device='cuda:0')\n",
      "val_loss: tensor(0.1047, device='cuda:0')\n",
      "finish a epoch of training\n",
      "epoch_num: 28\n",
      "train accu:  0.6798333333333333\n",
      "train_loss: tensor(0.0651, device='cuda:0')\n",
      "val_loss: tensor(0.1000, device='cuda:0')\n",
      "finish a epoch of training\n",
      "epoch_num: 29\n",
      "train accu:  0.6853333333333333\n",
      "train_loss: tensor(0.0636, device='cuda:0')\n",
      "val_loss: tensor(0.1020, device='cuda:0')\n"
     ]
    }
   ],
   "source": [
    "aa,bb,cc,dd,ee = train_single_model(model, criterion, optimizer, scheduler=None, device=\"cuda:0\", dataloaders=a,epoch=30)"
   ]
  },
  {
   "cell_type": "code",
   "execution_count": 11,
   "id": "9890b9aa",
   "metadata": {
    "scrolled": true
   },
   "outputs": [
    {
     "data": {
      "image/png": "[encoded data removed]",
      "text/plain": [
       "<Figure size 432x288 with 1 Axes>"
      ]
     },
     "metadata": {
      "needs_background": "light"
     },
     "output_type": "display_data"
    }
   ],
   "source": [
    "plt.plot(cc, label='Training')\n",
    "plt.plot(ee, label='Validation')\n",
    "plt.title('Training and Validation Accuracy')\n",
    "plt.xlabel('Epochs')\n",
    "plt.ylabel('Accuracy')\n",
    "plt.legend()\n",
    "plt.show()"
   ]
  },
  {
   "cell_type": "code",
   "execution_count": 12,
   "id": "b7d59350",
   "metadata": {},
   "outputs": [
    {
     "data": {
      "image/png": "[encoded data removed]",
      "text/plain": [
       "<Figure size 432x288 with 1 Axes>"
      ]
     },
     "metadata": {
      "needs_background": "light"
     },
     "output_type": "display_data"
    }
   ],
   "source": [
    "plt.plot(bb, label='Training')\n",
    "plt.plot(dd, label='Validation')\n",
    "plt.title('Training and Validation Losses')\n",
    "plt.xlabel('Epoches')\n",
    "plt.ylabel('Loss')\n",
    "plt.legend()\n",
    "plt.show()"
   ]
  },
  {
   "cell_type": "code",
   "execution_count": 13,
   "id": "1f2bbfd2",
   "metadata": {
    "scrolled": true
   },
   "outputs": [
    {
     "data": {
      "text/plain": [
       "custom(\n",
       "  (conv1): Conv2d(3, 64, kernel_size=(3, 3), stride=(1, 1))\n",
       "  (BN1): BatchNorm2d(64, eps=1e-05, momentum=0.1, affine=True, track_running_stats=True)\n",
       "  (drop_out3): Dropout(p=0.2, inplace=False)\n",
       "  (conv2): Conv2d(64, 128, kernel_size=(3, 3), stride=(1, 1))\n",
       "  (BN2): BatchNorm2d(128, eps=1e-05, momentum=0.1, affine=True, track_running_stats=True)\n",
       "  (conv3): Conv2d(128, 256, kernel_size=(3, 3), stride=(1, 1))\n",
       "  (BN3): BatchNorm2d(256, eps=1e-05, momentum=0.1, affine=True, track_running_stats=True)\n",
       "  (avg_pool1): AdaptiveAvgPool2d(output_size=(107, 107))\n",
       "  (conv4): Conv2d(256, 256, kernel_size=(3, 3), stride=(1, 1))\n",
       "  (BN4): BatchNorm2d(256, eps=1e-05, momentum=0.1, affine=True, track_running_stats=True)\n",
       "  (conv5): Conv2d(256, 512, kernel_size=(3, 3), stride=(1, 1))\n",
       "  (BN5): BatchNorm2d(512, eps=1e-05, momentum=0.1, affine=True, track_running_stats=True)\n",
       "  (max3): MaxPool2d(kernel_size=3, stride=2, padding=1, dilation=1, ceil_mode=False)\n",
       "  (conv6): Conv2d(512, 128, kernel_size=(3, 3), stride=(2, 2))\n",
       "  (BN6): BatchNorm2d(128, eps=1e-05, momentum=0.1, affine=True, track_running_stats=True)\n",
       "  (max4): MaxPool2d(kernel_size=3, stride=2, padding=1, dilation=1, ceil_mode=False)\n",
       "  (avg_pool): AdaptiveAvgPool2d(output_size=1)\n",
       "  (fc1): Linear(in_features=128, out_features=128, bias=True)\n",
       "  (drop_out): Dropout(p=0.5, inplace=False)\n",
       "  (fc2): Linear(in_features=128, out_features=20, bias=True)\n",
       ")"
      ]
     },
     "execution_count": 13,
     "metadata": {},
     "output_type": "execute_result"
    }
   ],
   "source": [
    "aa"
   ]
  },
  {
   "cell_type": "markdown",
   "id": "eb2909ad",
   "metadata": {},
   "source": [
    "# Test Accuracy"
   ]
  },
  {
   "cell_type": "code",
   "execution_count": 14,
   "id": "5d070078",
   "metadata": {},
   "outputs": [
    {
     "name": "stdout",
     "output_type": "stream",
     "text": [
      "test accu:  0.4748\n"
     ]
    }
   ],
   "source": [
    "aa.eval() # sets model in evaluation (inference) mode.\n",
    "correct = 0\n",
    "with torch.no_grad(): # stop storing gradients for the variables\n",
    "    for data, target in a[2]:\n",
    "            data, target = data.to(\"cuda:0\"), target.to(\"cuda:0\")\n",
    "            output = aa(data)\n",
    "            pred = output.argmax(dim=1, keepdim=True) # get the index of maximum fc output. \n",
    "            correct += pred.eq(target.view_as(pred)).sum().item()\n",
    "    test_acc=correct / len(a[2].dataset)\n",
    "print(\"test accu: \",test_acc)"
   ]
  },
  {
   "cell_type": "markdown",
   "id": "ba0d2257",
   "metadata": {},
   "source": [
    "conv1(out_channels=64, kernel_size=3)+BN+ReLU\n",
    "\n",
    "                 -> conv2(out_channels=64, kernel_size=3)+BN+ReLU\n",
    "                 -> conv3(out_channels=64, kernel_size=3)+BN+ReLU -> maxpool1(kernel_size=3)\n",
    "                 -> conv4(out_channels=128, kernel_size=3, stride=2)+BN+ReLU\n",
    "                 \n",
    "                 -> conv5(out_channels=128, kernel_size=3, stride=2)+BN+ReLU\n",
    "                 -> conv6(out_channels=128, kernel_size=3, stride=2)+BN+ReLU\n",
    "                 \n",
    "                 -> adaptiveavgpool(output_size=1x1)\n",
    "                 -> fc1(out_features=128)+dropout+ReLU -> fc2(out_features=num_classes)\n",
    "                 "
   ]
  },
  {
   "cell_type": "code",
   "execution_count": 15,
   "id": "661ec8d3",
   "metadata": {},
   "outputs": [],
   "source": [
    "#save weights\n",
    "torch.save(aa.state_dict(),\"food-101/state_dict_model1.pt\")"
   ]
  },
  {
   "cell_type": "code",
   "execution_count": 16,
   "id": "7e9b6233",
   "metadata": {},
   "outputs": [
    {
     "ename": "AttributeError",
     "evalue": "module 'torchvision.models' has no attribute 'custom'",
     "output_type": "error",
     "traceback": [
      "\u001b[0;31m---------------------------------------------------------------------------\u001b[0m",
      "\u001b[0;31mAttributeError\u001b[0m                            Traceback (most recent call last)",
      "\u001b[0;32m/tmp/ipykernel_76463/3566886725.py\u001b[0m in \u001b[0;36m<module>\u001b[0;34m\u001b[0m\n\u001b[1;32m      1\u001b[0m \u001b[0;31m#load model\u001b[0m\u001b[0;34m\u001b[0m\u001b[0;34m\u001b[0m\u001b[0;34m\u001b[0m\u001b[0m\n\u001b[0;32m----> 2\u001b[0;31m \u001b[0mmodel\u001b[0m \u001b[0;34m=\u001b[0m \u001b[0mmodels\u001b[0m\u001b[0;34m.\u001b[0m\u001b[0mcustom\u001b[0m\u001b[0;34m(\u001b[0m\u001b[0;34m)\u001b[0m \u001b[0;31m# we do not specify pretrained=True, i.e. do not load default weights\u001b[0m\u001b[0;34m\u001b[0m\u001b[0;34m\u001b[0m\u001b[0m\n\u001b[0m\u001b[1;32m      3\u001b[0m \u001b[0mmodel\u001b[0m\u001b[0;34m.\u001b[0m\u001b[0mload_state_dict\u001b[0m\u001b[0;34m(\u001b[0m\u001b[0mtorch\u001b[0m\u001b[0;34m.\u001b[0m\u001b[0mload\u001b[0m\u001b[0;34m(\u001b[0m\u001b[0;34m'model_weights.pth'\u001b[0m\u001b[0;34m)\u001b[0m\u001b[0;34m)\u001b[0m\u001b[0;34m\u001b[0m\u001b[0;34m\u001b[0m\u001b[0m\n\u001b[1;32m      4\u001b[0m \u001b[0mmodel\u001b[0m\u001b[0;34m.\u001b[0m\u001b[0meval\u001b[0m\u001b[0;34m(\u001b[0m\u001b[0;34m)\u001b[0m\u001b[0;34m\u001b[0m\u001b[0;34m\u001b[0m\u001b[0m\n",
      "\u001b[0;31mAttributeError\u001b[0m: module 'torchvision.models' has no attribute 'custom'"
     ]
    }
   ],
   "source": [
    "#load model\n",
    "model = models.custom() # we do not specify pretrained=True, i.e. do not load default weights\n",
    "model.load_state_dict(torch.load('model_weights.pth'))\n",
    "model.eval()"
   ]
  },
  {
   "cell_type": "markdown",
   "id": "1ebeafee",
   "metadata": {},
   "source": [
    "# weight"
   ]
  },
  {
   "cell_type": "code",
   "execution_count": null,
   "id": "5ef35b76",
   "metadata": {
    "scrolled": true
   },
   "outputs": [],
   "source": [
    "w = aa.conv1.weight.data.cpu()\n",
    "plt.figure(figsize=(4, 4))\n",
    "for i, filter in enumerate(w):\n",
    "    plt.subplot(8, 8, i+1) # (8, 8) because in conv0 we have 7x7 filters and total of 64 (see printed shapes)\n",
    "    plt.imshow(filter[0, :, :].detach())\n",
    "    plt.axis('off')\n",
    "plt.show()\n",
    "plt.clf()"
   ]
  },
  {
   "cell_type": "code",
   "execution_count": null,
   "id": "4c0d607b",
   "metadata": {},
   "outputs": [],
   "source": [
    "# Visualize feature maps\n",
    "activation = {}\n",
    "def get_activation(name):\n",
    "    def hook(model, input, output):\n",
    "        activation[name] = output.detach()\n",
    "    return hook\n"
   ]
  },
  {
   "cell_type": "markdown",
   "id": "cbd9d1a2",
   "metadata": {},
   "source": [
    "# Feature"
   ]
  },
  {
   "cell_type": "code",
   "execution_count": null,
   "id": "6245becb",
   "metadata": {},
   "outputs": [],
   "source": [
    "test0= None\n",
    "for i in a[2]:\n",
    "    test0=i\n",
    "    break\n",
    "test0[0].shape"
   ]
  },
  {
   "cell_type": "code",
   "execution_count": null,
   "id": "4bd4641d",
   "metadata": {},
   "outputs": [],
   "source": [
    "test0[0].unsqueeze_(0).shape"
   ]
  },
  {
   "cell_type": "code",
   "execution_count": null,
   "id": "a9ad363c",
   "metadata": {},
   "outputs": [],
   "source": [
    "model = aa\n",
    "# custom model: initial layer\n",
    "model.conv1.register_forward_hook(get_activation('Conv2d'))\n",
    "data, _ = test0[0]\n",
    "data.unsqueeze_(0)\n",
    "output = model(data.cuda())\n",
    "act = activation['Conv2d'].squeeze()\n",
    "plt.figure(figsize=(20, 17))\n",
    "for i, feature in enumerate(act):\n",
    "    plt.subplot(8, 8, i + 1)\n",
    "    plt.imshow(feature.cpu())\n",
    "    plt.axis(\"off\")\n",
    "plt.show()\n",
    "plt.clf\n",
    "\n",
    "\n",
    "# # custom model: middle layer\n",
    "# model.b6.register_forward_hook(get_activation('Conv2d'))\n",
    "# data, _ = trainer.test_dataset[0]\n",
    "# data.unsqueeze_(0)\n",
    "# output = model(data.cuda())\n",
    "# act = activation['Conv2d'].squeeze()\n",
    "# plt.figure(figsize=(20, 17))\n",
    "# for i, feature in enumerate(act):\n",
    "#     plt.subplot(16, 16, i + 1)\n",
    "#     plt.imshow(feature.cpu())\n",
    "#     plt.axis(\"off\")\n",
    "#     plt.savefig('images/custom_middle.png')\n",
    "# plt.show()\n",
    "# plt.clf\n",
    "\n",
    "\n",
    "# custom model: final layer\n",
    "# model.b6.register_forward_hook(get_activation('conv2d'))\n",
    "# data, _ = trainer.test_dataset[0]\n",
    "# data.unsqueeze_(0)\n",
    "# output = model(data.cuda())\n",
    "# act = activation['conv2d'].squeeze()\n",
    "# plt.figure(figsize=(20, 17))\n",
    "# for i, feature in enumerate(act):\n",
    "#     plt.subplot(16, 16, i + 1)\n",
    "#     plt.imshow(feature.cpu())\n",
    "#     plt.axis(\"off\")\n",
    "#     plt.savefig('images/custom_end.png')\n",
    "# plt.show()\n",
    "# plt.clf\n"
   ]
  },
  {
   "cell_type": "code",
   "execution_count": null,
   "id": "edbd523c",
   "metadata": {},
   "outputs": [],
   "source": []
  },
  {
   "cell_type": "code",
   "execution_count": null,
   "id": "51668896",
   "metadata": {},
   "outputs": [],
   "source": []
  }
 ],
 "metadata": {
  "kernelspec": {
   "display_name": "Python 3 (ipykernel)",
   "language": "python",
   "name": "python3"
  },
  "language_info": {
   "codemirror_mode": {
    "name": "ipython",
    "version": 3
   },
   "file_extension": ".py",
   "mimetype": "text/x-python",
   "name": "python",
   "nbconvert_exporter": "python",
   "pygments_lexer": "ipython3",
   "version": "3.9.5"
  }
 },
 "nbformat": 4,
 "nbformat_minor": 5
}
